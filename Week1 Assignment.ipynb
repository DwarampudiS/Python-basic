{
 "cells": [
  {
   "cell_type": "markdown",
   "id": "7d993b58-4e7e-41e5-b83e-207fe54fe90f",
   "metadata": {
    "jp-MarkdownHeadingCollapsed": true
   },
   "source": [
    "# Python Variables and Print "
   ]
  },
  {
   "cell_type": "code",
   "execution_count": 3,
   "id": "6332b3a3-d1bf-4373-90a0-6da304da2259",
   "metadata": {},
   "outputs": [
    {
     "data": {
      "text/plain": [
       "20"
      ]
     },
     "execution_count": 3,
     "metadata": {},
     "output_type": "execute_result"
    }
   ],
   "source": [
    "A = 10\n",
    "B = 20\n",
    "A\n",
    "B"
   ]
  },
  {
   "cell_type": "code",
   "execution_count": 5,
   "id": "5d6c8cf0-f594-40d8-8498-e762c76c577d",
   "metadata": {},
   "outputs": [
    {
     "name": "stdout",
     "output_type": "stream",
     "text": [
      "10\n",
      "20\n"
     ]
    }
   ],
   "source": [
    "a = 10 \n",
    "b = 20 \n",
    "print(a)\n",
    "print(b)"
   ]
  },
  {
   "cell_type": "code",
   "execution_count": 7,
   "id": "21391086-e5c7-42cf-829e-2a5cc293c636",
   "metadata": {},
   "outputs": [
    {
     "name": "stdout",
     "output_type": "stream",
     "text": [
      "10\n",
      "10 20\n",
      "python\n",
      "10 20 python\n"
     ]
    }
   ],
   "source": [
    "print(10)\n",
    "print(10,20)\n",
    "print('python')\n",
    "print(10,20,'python')"
   ]
  },
  {
   "cell_type": "code",
   "execution_count": 9,
   "id": "97b30bad-719c-4a4b-8f84-e97b7e2ec60c",
   "metadata": {},
   "outputs": [
    {
     "name": "stdout",
     "output_type": "stream",
     "text": [
      "50\n"
     ]
    }
   ],
   "source": [
    "num1 = 20\n",
    "num2 = 30\n",
    "add = num1 + num2\n",
    "print(add)"
   ]
  },
  {
   "cell_type": "code",
   "execution_count": 11,
   "id": "32b7d33f-7266-4d50-8eda-7e97aea0f857",
   "metadata": {},
   "outputs": [
    {
     "name": "stdout",
     "output_type": "stream",
     "text": [
      "The addition of 20 and 30 is= 50\n"
     ]
    }
   ],
   "source": [
    "num1= 20\n",
    "num2 = 30\n",
    "add = num1 +  num2\n",
    "print('The addition of', num1, 'and',num2,'is=',add)"
   ]
  },
  {
   "cell_type": "code",
   "execution_count": 13,
   "id": "3db07c67-681f-40f5-9116-5a72e2957364",
   "metadata": {},
   "outputs": [],
   "source": [
    "name= 'Python'\n",
    "age = 20\n",
    "city= 'hyb'"
   ]
  },
  {
   "cell_type": "code",
   "execution_count": 37,
   "id": "04f11f36-6b3f-40f8-bde1-4d72cd1ff53e",
   "metadata": {},
   "outputs": [
    {
     "name": "stdout",
     "output_type": "stream",
     "text": [
      "My name is Python and i am  20 years old from hyb\n",
      "My name is Python and i am 20 years old from hyb\n",
      "My name is Python and i am 20 years old from hyb\n"
     ]
    }
   ],
   "source": [
    "print('My name is', name,'and i am ',age, 'years old from', city)\n",
    "print('My name is {} and i am {} years old from {}'.format(name,age,city))\n",
    "print(f'My name is {name} and i am {age} years old from {city}')\n"
   ]
  },
  {
   "cell_type": "code",
   "execution_count": 39,
   "id": "6b86b443-2645-4c6c-901d-392672291111",
   "metadata": {},
   "outputs": [
    {
     "name": "stdout",
     "output_type": "stream",
     "text": [
      "The addition of 20 and 30 is = 50\n",
      "The avarage of 20, 30 and 333 is = 152.66666666666666\n"
     ]
    }
   ],
   "source": [
    "num1 = 20\n",
    "num2 = 30\n",
    "add = num1 + num2\n",
    "print('The addition of {} and {} is = {}'.format(num1,num2,add))\n",
    "print(f'The avarage of {num1}, {num2} and {num3} is = {avg}')"
   ]
  },
  {
   "cell_type": "code",
   "execution_count": 27,
   "id": "d76119c6-d4f2-4857-a6f4-0a91de5dee3c",
   "metadata": {},
   "outputs": [
    {
     "name": "stdout",
     "output_type": "stream",
     "text": [
      "The avarage of 100,25, and 333 is = 152.66666666666666 or 152.67\n"
     ]
    }
   ],
   "source": [
    "num1 = 100\n",
    "num2 = 25\n",
    "num3 = 333\n",
    "avg = (num1 + num2 + num3)/3\n",
    "avg1 = round((num1 + num2 + num3)/3,2)\n",
    "print('The avarage of {},{}, and {} is = {} or {}'.format(num1,num2,num3,avg,avg1))"
   ]
  },
  {
   "cell_type": "code",
   "execution_count": 29,
   "id": "87e6fc45-91a8-41de-ae98-f5885ea68cf3",
   "metadata": {},
   "outputs": [
    {
     "data": {
      "text/plain": [
       "152.67"
      ]
     },
     "execution_count": 29,
     "metadata": {},
     "output_type": "execute_result"
    }
   ],
   "source": [
    "round(avg,2)"
   ]
  },
  {
   "cell_type": "code",
   "execution_count": 33,
   "id": "7499e842-f7b7-4128-b95c-f4d462b9eaab",
   "metadata": {},
   "outputs": [
    {
     "name": "stdout",
     "output_type": "stream",
     "text": [
      "The addition of 20 and 30 is = 50\n"
     ]
    }
   ],
   "source": [
    "num1 = 20\n",
    "num2 = 30\n",
    "add = num1 + num2\n",
    "print(f'The addition of {num1} and {num2} is = {add}')"
   ]
  },
  {
   "cell_type": "code",
   "execution_count": 41,
   "id": "874009e3-21a5-4fa3-b4eb-cc0508fc0fa9",
   "metadata": {},
   "outputs": [
    {
     "name": "stdout",
     "output_type": "stream",
     "text": [
      "hello\n",
      "good morning\n"
     ]
    }
   ],
   "source": [
    "print('hello')\n",
    "print('good morning')"
   ]
  },
  {
   "cell_type": "code",
   "execution_count": 43,
   "id": "41a54de1-5c74-409a-8996-8a0311d63c58",
   "metadata": {},
   "outputs": [
    {
     "name": "stdout",
     "output_type": "stream",
     "text": [
      "hello good morning\n"
     ]
    }
   ],
   "source": [
    "print('hello',end = ' ')\n",
    "print('good morning')"
   ]
  },
  {
   "cell_type": "code",
   "execution_count": 45,
   "id": "b68a725f-6161-48c8-803a-5e73bac8210f",
   "metadata": {},
   "outputs": [
    {
     "name": "stdout",
     "output_type": "stream",
     "text": [
      "hello--->hai--->how are you\n",
      "hello&hai&how are you\n",
      "hello@hai@how are you\n",
      "hello hai how are you\n",
      "3 .\n",
      "3.\n",
      "1 2 3.\n"
     ]
    }
   ],
   "source": [
    "print('hello','hai','how are you', sep='--->')\n",
    "print('hello','hai','how are you', sep='&')\n",
    "print('hello','hai','how are you', sep='@')\n",
    "print('hello','hai','how are you', sep=' ')\n",
    "print(3,'.')\n",
    "print(3,'.',sep = '')\n",
    "print(1,2,end = ' ')\n",
    "print(3,'.',sep= '')\n"
   ]
  },
  {
   "cell_type": "markdown",
   "id": "6133b0cc-7ab2-4349-a55d-eb9b545ead75",
   "metadata": {
    "jp-MarkdownHeadingCollapsed": true
   },
   "source": [
    "# Keywords"
   ]
  },
  {
   "cell_type": "code",
   "execution_count": 47,
   "id": "75e7334f-d590-4ba9-b6d4-5cabae0284cb",
   "metadata": {},
   "outputs": [],
   "source": [
    "import sys\n",
    "import keyword\n",
    "import operator\n",
    "from datetime import datetime\n",
    "import os"
   ]
  },
  {
   "cell_type": "code",
   "execution_count": 49,
   "id": "cb686e52-6f06-4b99-9138-69e0613de40d",
   "metadata": {},
   "outputs": [
    {
     "name": "stdout",
     "output_type": "stream",
     "text": [
      "['False', 'None', 'True', 'and', 'as', 'assert', 'async', 'await', 'break', 'class', 'continue', 'def', 'del', 'elif', 'else', 'except', 'finally', 'for', 'from', 'global', 'if', 'import', 'in', 'is', 'lambda', 'nonlocal', 'not', 'or', 'pass', 'raise', 'return', 'try', 'while', 'with', 'yield']\n"
     ]
    },
    {
     "data": {
      "text/plain": [
       "35"
      ]
     },
     "execution_count": 49,
     "metadata": {},
     "output_type": "execute_result"
    }
   ],
   "source": [
    "print(keyword.kwlist)\n",
    "len(keyword.kwlist)"
   ]
  },
  {
   "cell_type": "markdown",
   "id": "052ff4a8-ae04-425f-90fc-e1692c7ef9ac",
   "metadata": {
    "jp-MarkdownHeadingCollapsed": true
   },
   "source": [
    "# Identifiers"
   ]
  },
  {
   "cell_type": "code",
   "execution_count": 56,
   "id": "6f52ba66-adcc-437b-8533-5c5457422c46",
   "metadata": {},
   "outputs": [
    {
     "ename": "SyntaxError",
     "evalue": "invalid decimal literal (4256868957.py, line 1)",
     "output_type": "error",
     "traceback": [
      "\u001b[1;36m  Cell \u001b[1;32mIn[56], line 1\u001b[1;36m\u001b[0m\n\u001b[1;33m    1var = 10\u001b[0m\n\u001b[1;37m    ^\u001b[0m\n\u001b[1;31mSyntaxError\u001b[0m\u001b[1;31m:\u001b[0m invalid decimal literal\n"
     ]
    }
   ],
   "source": [
    "1var = 10"
   ]
  },
  {
   "cell_type": "code",
   "execution_count": 58,
   "id": "7f370471-3f3a-4cf8-ab3b-c8a324fa4236",
   "metadata": {},
   "outputs": [
    {
     "ename": "SyntaxError",
     "evalue": "invalid syntax (3636076842.py, line 1)",
     "output_type": "error",
     "traceback": [
      "\u001b[1;36m  Cell \u001b[1;32mIn[58], line 1\u001b[1;36m\u001b[0m\n\u001b[1;33m    val2@ = 35\u001b[0m\n\u001b[1;37m          ^\u001b[0m\n\u001b[1;31mSyntaxError\u001b[0m\u001b[1;31m:\u001b[0m invalid syntax\n"
     ]
    }
   ],
   "source": [
    "val2@ = 35"
   ]
  },
  {
   "cell_type": "code",
   "execution_count": 60,
   "id": "37ab3c4a-1f6e-42d5-bcc5-e2e9699482f7",
   "metadata": {},
   "outputs": [
    {
     "ename": "SyntaxError",
     "evalue": "invalid syntax (4166699667.py, line 1)",
     "output_type": "error",
     "traceback": [
      "\u001b[1;36m  Cell \u001b[1;32mIn[60], line 1\u001b[1;36m\u001b[0m\n\u001b[1;33m    import = 125\u001b[0m\n\u001b[1;37m           ^\u001b[0m\n\u001b[1;31mSyntaxError\u001b[0m\u001b[1;31m:\u001b[0m invalid syntax\n"
     ]
    }
   ],
   "source": [
    "import = 125"
   ]
  },
  {
   "cell_type": "code",
   "execution_count": 62,
   "id": "e9c51299-fa11-45d2-a2d6-c33645c6da93",
   "metadata": {},
   "outputs": [],
   "source": [
    "val2 = 10"
   ]
  },
  {
   "cell_type": "code",
   "execution_count": 64,
   "id": "d1ae0cd5-1d0e-4aef-8b7b-8476dfd9b646",
   "metadata": {},
   "outputs": [],
   "source": [
    "val_ = 99"
   ]
  },
  {
   "cell_type": "markdown",
   "id": "b34a4112-9afd-462d-81cd-a953d072e68d",
   "metadata": {
    "jp-MarkdownHeadingCollapsed": true
   },
   "source": [
    "# Comments in python"
   ]
  },
  {
   "cell_type": "code",
   "execution_count": 84,
   "id": "a35a766e-756e-454c-b49b-f25e0d40790e",
   "metadata": {},
   "outputs": [],
   "source": [
    "# Single line\n",
    "val = 10"
   ]
  },
  {
   "cell_type": "code",
   "execution_count": 82,
   "id": "80472513-d632-4fba-bfc5-8b0326b26437",
   "metadata": {},
   "outputs": [],
   "source": [
    "#multiple \n",
    "#line\n",
    "#comment\n",
    "val = 10"
   ]
  },
  {
   "cell_type": "code",
   "execution_count": 80,
   "id": "ea30e222-8871-40d0-8b0b-71814d9948dc",
   "metadata": {},
   "outputs": [],
   "source": [
    "'''\n",
    "Multiple\n",
    "line\n",
    "comment\n",
    "'''\n",
    "val = 10"
   ]
  },
  {
   "cell_type": "code",
   "execution_count": 78,
   "id": "8ac560a1-7d8e-489f-b302-79f1a01a0c3c",
   "metadata": {},
   "outputs": [],
   "source": [
    "\"\"\"\n",
    "Multiple \n",
    "line\n",
    "comment\n",
    "\"\"\"\n",
    "val = 10"
   ]
  },
  {
   "cell_type": "markdown",
   "id": "6e3f27d8-e19c-43a7-8df4-cabd460fe705",
   "metadata": {
    "jp-MarkdownHeadingCollapsed": true
   },
   "source": [
    "# Statements"
   ]
  },
  {
   "cell_type": "code",
   "execution_count": 91,
   "id": "312c2567-e73d-492a-9f80-0941ea967f12",
   "metadata": {},
   "outputs": [
    {
     "data": {
      "text/plain": [
       "(20, int, '0x7fff1aa82c18')"
      ]
     },
     "execution_count": 91,
     "metadata": {},
     "output_type": "execute_result"
    }
   ],
   "source": [
    "p = 20\n",
    "q = 20\n",
    "r = q\n",
    "p, type(p), hex(id(p))\n"
   ]
  },
  {
   "cell_type": "markdown",
   "id": "33ff849d-b6c4-4cac-825f-2e284032f15b",
   "metadata": {},
   "source": [
    "q, type(q), hex(id(q))\n"
   ]
  },
  {
   "cell_type": "code",
   "execution_count": 95,
   "id": "1163d732-8bf2-4d98-8911-950d76eee567",
   "metadata": {},
   "outputs": [
    {
     "data": {
      "text/plain": [
       "(20, int, '0x7fff1aa82c18')"
      ]
     },
     "execution_count": 95,
     "metadata": {},
     "output_type": "execute_result"
    }
   ],
   "source": [
    "r, type(r), hex(id(r))"
   ]
  },
  {
   "cell_type": "code",
   "execution_count": 97,
   "id": "deedf919-10d5-4697-83bd-4dfb37551176",
   "metadata": {},
   "outputs": [
    {
     "data": {
      "text/plain": [
       "30"
      ]
     },
     "execution_count": 97,
     "metadata": {},
     "output_type": "execute_result"
    }
   ],
   "source": [
    "p = 20\n",
    "p = p +10 #variable overwriting\n",
    "p"
   ]
  },
  {
   "cell_type": "markdown",
   "id": "5453fc73-56f8-4fe6-bd24-68316c7aaaf3",
   "metadata": {
    "jp-MarkdownHeadingCollapsed": true
   },
   "source": [
    "# Variable assignment"
   ]
  },
  {
   "cell_type": "code",
   "execution_count": 102,
   "id": "8d1f06fe-e540-46b8-ba1d-f028a2874fac",
   "metadata": {},
   "outputs": [
    {
     "name": "stdout",
     "output_type": "stream",
     "text": [
      "10\n",
      "2.75\n",
      "python\n"
     ]
    }
   ],
   "source": [
    "intvar = 10\n",
    "floatvar = 2.75\n",
    "strvar = 'python'\n",
    "print(intvar)\n",
    "print(floatvar)\n",
    "print(strvar)"
   ]
  },
  {
   "cell_type": "code",
   "execution_count": 104,
   "id": "2460b3d1-4e1b-4796-aa6b-90e045655547",
   "metadata": {},
   "outputs": [
    {
     "name": "stdout",
     "output_type": "stream",
     "text": [
      "12\n",
      "4.75\n",
      "python language\n"
     ]
    }
   ],
   "source": [
    "intvar,floatvar, strvar = 12,4.75,'python language'\n",
    "print(intvar)\n",
    "print(floatvar)\n",
    "print(strvar)"
   ]
  },
  {
   "cell_type": "markdown",
   "id": "f9895e50-8441-4903-964c-93841f969af3",
   "metadata": {
    "jp-MarkdownHeadingCollapsed": true
   },
   "source": [
    "# Data Types"
   ]
  },
  {
   "cell_type": "code",
   "execution_count": 107,
   "id": "7e2a38f0-100a-494a-8dc8-57786bdfda8d",
   "metadata": {},
   "outputs": [],
   "source": [
    "#Numeric"
   ]
  },
  {
   "cell_type": "code",
   "execution_count": 109,
   "id": "45f6e03b-205b-467a-936d-2ad01255711c",
   "metadata": {},
   "outputs": [
    {
     "name": "stdout",
     "output_type": "stream",
     "text": [
      "10\n",
      "<class 'int'>\n",
      "28\n",
      "10 is integer? True\n"
     ]
    }
   ],
   "source": [
    "val1= 10 # int data type\n",
    "print(val1)\n",
    "print(type(val1))\n",
    "print(sys.getsizeof(val1))\n",
    "print(val1, \"is integer?\", isinstance(val1,int))"
   ]
  },
  {
   "cell_type": "code",
   "execution_count": 121,
   "id": "69952471-ac8b-453f-ba30-4ce3998abbbe",
   "metadata": {},
   "outputs": [
    {
     "name": "stdout",
     "output_type": "stream",
     "text": [
      "92.78\n",
      "<class 'float'>\n",
      "24\n",
      "92.78 is float? True\n"
     ]
    }
   ],
   "source": [
    "val2= 92.78 # float data type\n",
    "print(val2)\n",
    "print(type(val2))\n",
    "print(sys.getsizeof(val2))\n",
    "print(val2, \"is float?\", isinstance(val2,float))"
   ]
  },
  {
   "cell_type": "code",
   "execution_count": 119,
   "id": "92a03ffa-03a4-4fa2-b325-17fbc7c9dc0e",
   "metadata": {},
   "outputs": [
    {
     "name": "stdout",
     "output_type": "stream",
     "text": [
      "(25+10j)\n",
      "<class 'complex'>\n",
      "32\n",
      "(25+10j) is complex? True\n"
     ]
    }
   ],
   "source": [
    "val3= 25 + 10j # complex data type\n",
    "print(val3)\n",
    "print(type(val3))\n",
    "print(sys.getsizeof(val3))\n",
    "print(val3, \"is complex?\", isinstance(val3,complex))"
   ]
  },
  {
   "cell_type": "code",
   "execution_count": 123,
   "id": "92488642-1abd-4ba0-a04c-70219e8719de",
   "metadata": {},
   "outputs": [
    {
     "data": {
      "text/plain": [
       "28"
      ]
     },
     "execution_count": 123,
     "metadata": {},
     "output_type": "execute_result"
    }
   ],
   "source": [
    "sys.getsizeof(int())"
   ]
  },
  {
   "cell_type": "code",
   "execution_count": 125,
   "id": "138d8f6f-b52b-4272-a1f0-8540e46a8a94",
   "metadata": {},
   "outputs": [
    {
     "data": {
      "text/plain": [
       "24"
      ]
     },
     "execution_count": 125,
     "metadata": {},
     "output_type": "execute_result"
    }
   ],
   "source": [
    "sys.getsizeof(float())"
   ]
  },
  {
   "cell_type": "code",
   "execution_count": 127,
   "id": "b84a9bef-773e-4971-9ed9-379a1b9fc4c1",
   "metadata": {},
   "outputs": [
    {
     "data": {
      "text/plain": [
       "32"
      ]
     },
     "execution_count": 127,
     "metadata": {},
     "output_type": "execute_result"
    }
   ],
   "source": [
    "sys.getsizeof(complex())"
   ]
  },
  {
   "cell_type": "code",
   "execution_count": 129,
   "id": "0cc41fd2-9b87-4072-9c64-a45f20d8c0bc",
   "metadata": {},
   "outputs": [],
   "source": [
    "# Boolean"
   ]
  },
  {
   "cell_type": "code",
   "execution_count": 143,
   "id": "28c001b6-b4b9-4197-9a1f-11ed5e1b344f",
   "metadata": {},
   "outputs": [
    {
     "name": "stdout",
     "output_type": "stream",
     "text": [
      "<class 'bool'>\n",
      "<class 'bool'>\n"
     ]
    }
   ],
   "source": [
    "bool1 = True\n",
    "bool2 = False\n",
    "print(type(bool1))\n",
    "print(type(bool2))\n"
   ]
  },
  {
   "cell_type": "code",
   "execution_count": 139,
   "id": "d1073116-2303-423a-9d81-764f907ca07e",
   "metadata": {},
   "outputs": [
    {
     "data": {
      "text/plain": [
       "True"
      ]
     },
     "execution_count": 139,
     "metadata": {},
     "output_type": "execute_result"
    }
   ],
   "source": [
    "isinstance(bool1,bool)"
   ]
  },
  {
   "cell_type": "code",
   "execution_count": 145,
   "id": "bd358aa7-a881-4ed2-922a-18a2d448c02a",
   "metadata": {},
   "outputs": [
    {
     "data": {
      "text/plain": [
       "True"
      ]
     },
     "execution_count": 145,
     "metadata": {},
     "output_type": "execute_result"
    }
   ],
   "source": [
    "bool(1)"
   ]
  },
  {
   "cell_type": "code",
   "execution_count": 147,
   "id": "54f42736-2ab3-4e2b-b122-4d1badb410f9",
   "metadata": {},
   "outputs": [
    {
     "data": {
      "text/plain": [
       "False"
      ]
     },
     "execution_count": 147,
     "metadata": {},
     "output_type": "execute_result"
    }
   ],
   "source": [
    "bool(None)"
   ]
  },
  {
   "cell_type": "code",
   "execution_count": 149,
   "id": "9fdebfe9-265c-4cda-bde3-53c3c038b0f0",
   "metadata": {},
   "outputs": [
    {
     "data": {
      "text/plain": [
       "False"
      ]
     },
     "execution_count": 149,
     "metadata": {},
     "output_type": "execute_result"
    }
   ],
   "source": [
    "bool(False)"
   ]
  },
  {
   "cell_type": "code",
   "execution_count": 153,
   "id": "4a50496a-f462-4f35-acb6-2cef03db1d29",
   "metadata": {},
   "outputs": [
    {
     "name": "stdout",
     "output_type": "stream",
     "text": [
      "hello python\n",
      "hello world\n",
      "hello\n",
      "            world\n",
      " hello\n",
      "        world11\n",
      "happy monday every1\n",
      "whooo whooo whooo whooo whooo \n",
      "30\n"
     ]
    }
   ],
   "source": [
    "str1= \"hello python\"\n",
    "print(str1)\n",
    "str2='hello world'\n",
    "print(str2)\n",
    "str3 = '''hello\n",
    "            world'''\n",
    "print(str3)\n",
    "str4= \"\"\" hello\n",
    "        world11\"\"\"\n",
    "print(str4)\n",
    "str5= ('happy '\n",
    "       'monday ' \n",
    "       'every1')\n",
    "print(str5)\n",
    "str6 = 'whooo '\n",
    "str6 = str6 *  5\n",
    "print(str6)\n",
    "print(len(str6))"
   ]
  },
  {
   "cell_type": "markdown",
   "id": "3c0359ed-75aa-4e18-a2a6-23a50e42b4c8",
   "metadata": {
    "jp-MarkdownHeadingCollapsed": true
   },
   "source": [
    "# String indexing"
   ]
  },
  {
   "cell_type": "code",
   "execution_count": 162,
   "id": "1aa08d60-37ae-4c1c-ab99-c1842c479570",
   "metadata": {},
   "outputs": [
    {
     "name": "stdout",
     "output_type": "stream",
     "text": [
      "hello python\n",
      "h\n",
      "n\n",
      "n\n",
      "p\n",
      " \n"
     ]
    }
   ],
   "source": [
    "print(str1)\n",
    "print(str1[0]) # first character in string \n",
    "print(str1[len(str1)-1]) # last character in string\n",
    "print(str1[-1]) # last character\n",
    "print(str1[6]) # 7th character\n",
    "print(str1[5])"
   ]
  },
  {
   "cell_type": "markdown",
   "id": "686a3fed-b81a-47c3-9eef-9722dc8a0306",
   "metadata": {
    "jp-MarkdownHeadingCollapsed": true
   },
   "source": [
    "# String Slicing"
   ]
  },
  {
   "cell_type": "code",
   "execution_count": 171,
   "id": "b57b11f7-ad74-49be-bf06-65bf6bc5ed4f",
   "metadata": {},
   "outputs": [
    {
     "name": "stdout",
     "output_type": "stream",
     "text": [
      "hello\n",
      "python\n",
      "thon\n",
      "python\n",
      "hell\n",
      "hello \n"
     ]
    }
   ],
   "source": [
    "print(str1[0:5]) #Fetch from 0 to 5 index\n",
    "print(str1[6:12])\n",
    "print(str1[-4:]) #fetch last 4\n",
    "print(str1[-6:])\n",
    "print(str1[:4]) #fetch first 4\n",
    "print(str1[:6]) #fetch first 4"
   ]
  },
  {
   "cell_type": "markdown",
   "id": "21d94b26-4e3d-4aec-9503-5095fadf99a8",
   "metadata": {
    "jp-MarkdownHeadingCollapsed": true
   },
   "source": [
    "# Update and delete string"
   ]
  },
  {
   "cell_type": "code",
   "execution_count": 174,
   "id": "cf9b736f-3fce-493c-927b-b52874b71d48",
   "metadata": {},
   "outputs": [
    {
     "data": {
      "text/plain": [
       "'hello python'"
      ]
     },
     "execution_count": 174,
     "metadata": {},
     "output_type": "execute_result"
    }
   ],
   "source": [
    "str1"
   ]
  },
  {
   "cell_type": "code",
   "execution_count": 176,
   "id": "d28947c5-e6cb-418a-8cfa-31855fa92406",
   "metadata": {},
   "outputs": [
    {
     "ename": "TypeError",
     "evalue": "'str' object does not support item assignment",
     "output_type": "error",
     "traceback": [
      "\u001b[1;31m---------------------------------------------------------------------------\u001b[0m",
      "\u001b[1;31mTypeError\u001b[0m                                 Traceback (most recent call last)",
      "Cell \u001b[1;32mIn[176], line 1\u001b[0m\n\u001b[1;32m----> 1\u001b[0m str1[\u001b[38;5;241m0\u001b[39m:\u001b[38;5;241m5\u001b[39m] \u001b[38;5;241m=\u001b[39m \u001b[38;5;124m'\u001b[39m\u001b[38;5;124mholaa\u001b[39m\u001b[38;5;124m'\u001b[39m\n",
      "\u001b[1;31mTypeError\u001b[0m: 'str' object does not support item assignment"
     ]
    }
   ],
   "source": [
    "str1[0:5] = 'holaa'"
   ]
  },
  {
   "cell_type": "code",
   "execution_count": 178,
   "id": "8a53db57-d66b-430a-8bd9-16c1cff82a74",
   "metadata": {},
   "outputs": [
    {
     "ename": "NameError",
     "evalue": "name 'str1' is not defined",
     "output_type": "error",
     "traceback": [
      "\u001b[1;31m---------------------------------------------------------------------------\u001b[0m",
      "\u001b[1;31mNameError\u001b[0m                                 Traceback (most recent call last)",
      "Cell \u001b[1;32mIn[178], line 2\u001b[0m\n\u001b[0;32m      1\u001b[0m \u001b[38;5;28;01mdel\u001b[39;00m str1\n\u001b[1;32m----> 2\u001b[0m \u001b[38;5;28mprint\u001b[39m(str1)\n",
      "\u001b[1;31mNameError\u001b[0m: name 'str1' is not defined"
     ]
    }
   ],
   "source": [
    "del str1\n",
    "print(str1)"
   ]
  },
  {
   "cell_type": "markdown",
   "id": "e2665956-4b87-407f-82fe-d0b084d846cd",
   "metadata": {
    "jp-MarkdownHeadingCollapsed": true
   },
   "source": [
    "# String concatenation"
   ]
  },
  {
   "cell_type": "code",
   "execution_count": 186,
   "id": "a52961a4-20e9-40a6-8656-dc539c7f00fe",
   "metadata": {},
   "outputs": [
    {
     "data": {
      "text/plain": [
       "'HELLO ASIF'"
      ]
     },
     "execution_count": 186,
     "metadata": {},
     "output_type": "execute_result"
    }
   ],
   "source": [
    "S1 = \"HELLO \"\n",
    "S2 = \"ASIF\"\n",
    "S3 = S1 + S2\n",
    "S3"
   ]
  },
  {
   "cell_type": "markdown",
   "id": "70f718dd-aa2b-4727-9e48-e53a2149d16b",
   "metadata": {
    "jp-MarkdownHeadingCollapsed": true
   },
   "source": [
    "# Basic Code"
   ]
  },
  {
   "cell_type": "code",
   "execution_count": 193,
   "id": "56363dfa-92b8-4764-89b7-d0d99b6f60e3",
   "metadata": {},
   "outputs": [
    {
     "name": "stdout",
     "output_type": "stream",
     "text": [
      "5\n",
      "-1\n",
      "16\n",
      "0.5\n",
      "9\n",
      "1\n",
      "1\n",
      "<class 'int'>\n",
      "<class 'float'>\n",
      "<class 'complex'>\n",
      "<class 'str'>\n",
      "<class 'list'>\n",
      "<class 'dict'>\n",
      "<class 'set'>\n",
      "<class 'tuple'>\n",
      "<class 'bool'>\n",
      "<class 'bool'>\n"
     ]
    }
   ],
   "source": [
    "print(3+2)\n",
    "print(3-4)\n",
    "print(2*8)\n",
    "print(2/4)\n",
    "print(3**2)\n",
    "print(3%2)\n",
    "print(3//2)\n",
    "\n",
    "#Check data types\n",
    "\n",
    "print(type(10))\n",
    "print(type(3.14))\n",
    "print(type(1 + 13j))\n",
    "print(type('hello'))\n",
    "print(type([1,2,3]))\n",
    "print(type({'name':'sara'}))\n",
    "print(type({9.8,3.14,3.4}))\n",
    "print(type((9.8,3.14,2.7)))\n",
    "print(type(3==3))\n",
    "print(type(3 >= 3))"
   ]
  },
  {
   "cell_type": "markdown",
   "id": "466c9591-ef80-446f-b877-814278550ec2",
   "metadata": {
    "jp-MarkdownHeadingCollapsed": true
   },
   "source": [
    "# variables in python"
   ]
  },
  {
   "cell_type": "code",
   "execution_count": 200,
   "id": "9abdf90d-c5c3-401f-ad1a-86b942c6bbf7",
   "metadata": {},
   "outputs": [
    {
     "name": "stdout",
     "output_type": "stream",
     "text": [
      "First name: sara\n",
      "First name length: 4\n",
      "Last name: d\n",
      "Last name length: 1\n",
      "country: india\n",
      "city: hyb\n",
      "age: 10\n",
      "married True\n",
      "skils ['HTML', 'CSS', 'JAVA', 'ANGULAR']\n",
      "personal information: {'firstname': 'sara', 'lastname': 'd', 'country': 'india', 'city': 'hyb'}\n",
      "First name: fn\n",
      "Last name: ln\n",
      "country: country1\n",
      "age: a1\n",
      "married False\n"
     ]
    }
   ],
   "source": [
    "first_name= 'sara'\n",
    "last_name = 'd'\n",
    "country = 'india'\n",
    "city  = 'hyb'\n",
    "age= 10\n",
    "is_married  = True\n",
    "skills = ['HTML','CSS','JAVA','ANGULAR']\n",
    "personal_info= {\n",
    "    'firstname': 'sara',\n",
    "    'lastname':'d',\n",
    "    'country':'india',\n",
    "    'city':'hyb'\n",
    "}\n",
    "print('First name:', first_name)\n",
    "print('First name length:', len(first_name))\n",
    "print('Last name:',last_name)\n",
    "print('Last name length:',len(last_name))\n",
    "print('country:',country)\n",
    "print('city:',city)\n",
    "print('age:',age)\n",
    "print('married',  is_married)\n",
    "print('skils', skills)\n",
    "print('personal information:',personal_info)\n",
    "\n",
    "first_name,last_name,country,age,is_married= 'fn','ln','country1','a1',False\n",
    "print('First name:', first_name)\n",
    "print('Last name:',last_name)\n",
    "print('country:',country)\n",
    "print('age:',age)\n",
    "print('married',  is_married)"
   ]
  },
  {
   "cell_type": "markdown",
   "id": "23d47b9e-604c-437f-b998-0bf80a27fe60",
   "metadata": {
    "jp-MarkdownHeadingCollapsed": true
   },
   "source": [
    "# Operators"
   ]
  },
  {
   "cell_type": "code",
   "execution_count": 6,
   "id": "ebac9c8e-f493-49ea-afff-8b7715945e0b",
   "metadata": {},
   "outputs": [
    {
     "name": "stdout",
     "output_type": "stream",
     "text": [
      "Addition 3\n",
      "Subtraction -1\n",
      "Multiplication 2\n",
      "Division 0.5\n",
      "Division without remainder 0\n",
      "Modulus 1\n",
      "Exponential 1\n",
      "Floating numbers, PI 3.14\n",
      "Floating numbers, gravity 9.81\n",
      "complex numbers (1+1j)\n",
      "Multiply complex numbers (2+0j)\n"
     ]
    }
   ],
   "source": [
    "print('Addition',1+2)\n",
    "print('Subtraction',1-2)\n",
    "print('Multiplication',1*2)\n",
    "print('Division',1/2)\n",
    "print('Division without remainder',1//2)\n",
    "print('Modulus',1%2)\n",
    "print('Exponential',1**2)\n",
    "\n",
    "print('Floating numbers, PI',3.14)\n",
    "print('Floating numbers, gravity',9.81)\n",
    "\n",
    "print('complex numbers',1 + 1j)\n",
    "print('Multiply complex numbers',(1 + 1j) * (1-1j))"
   ]
  },
  {
   "cell_type": "code",
   "execution_count": 11,
   "id": "53f39e52-1df8-4777-a3b4-0fdbbbb3d643",
   "metadata": {},
   "outputs": [
    {
     "name": "stdout",
     "output_type": "stream",
     "text": [
      "5\n",
      "a+b= 5\n",
      "a-b= 1\n",
      "a*b= 6\n",
      "a/b= 1.5\n",
      "a%b= 1\n",
      "a//b= 1\n",
      "a**b= 9\n"
     ]
    }
   ],
   "source": [
    "a = 3\n",
    "b = 2\n",
    "\n",
    "total= a+b\n",
    "diff  = a-b\n",
    "product = a*b\n",
    "division= a/b\n",
    "remainder = a%b\n",
    "floor_division = a//b\n",
    "exponential = a**b\n",
    "\n",
    "print(total)\n",
    "print('a+b=',total)\n",
    "print('a-b=',diff)\n",
    "print('a*b=',product)\n",
    "print('a/b=',division)\n",
    "print('a%b=',remainder)\n",
    "print('a//b=',floor_division)\n",
    "print('a**b=',exponential)"
   ]
  },
  {
   "cell_type": "code",
   "execution_count": 13,
   "id": "246cab1d-370d-41eb-b89c-599f99545cf8",
   "metadata": {},
   "outputs": [
    {
     "name": "stdout",
     "output_type": "stream",
     "text": [
      "total: 7\n",
      "diff: 1\n",
      "product: 12\n",
      "div: 1.0\n",
      "remainder: 1\n"
     ]
    }
   ],
   "source": [
    "num_one = 3\n",
    "num_two = 4\n",
    "\n",
    "total= num_one + num_two\n",
    "diff = num_two - num_one\n",
    "product = num_one * num_two\n",
    "div  = num_two / num_two\n",
    "remainder = num_two % num_one\n",
    "\n",
    "print('total:',total)\n",
    "print('diff:',diff)\n",
    "print('product:',product)\n",
    "print('div:',div)\n",
    "print('remainder:',remainder)"
   ]
  },
  {
   "cell_type": "code",
   "execution_count": 15,
   "id": "19563cf2-a1fc-4a90-a9af-052f8c715efd",
   "metadata": {},
   "outputs": [
    {
     "name": "stdout",
     "output_type": "stream",
     "text": [
      "Area of circle: 314.0\n",
      "Are of rectangle: 314.0\n",
      "735.75 N\n"
     ]
    }
   ],
   "source": [
    "# calaculate area of circle\n",
    "radius  = 10\n",
    "area_of_circle = 3.14 * radius **2\n",
    "print('Area of circle:', area_of_circle)\n",
    "\n",
    "# calculate are of rectangle\n",
    "length  = 10\n",
    "width  = 20\n",
    "area_of_rectangle =  length * width\n",
    "print('Are of rectangle:',area_of_circle)\n",
    "\n",
    "# calculate weight of an object\n",
    "mass = 75\n",
    "gravity = 9.81\n",
    "weight = mass *gravity\n",
    "print(weight,'N')"
   ]
  },
  {
   "cell_type": "code",
   "execution_count": 51,
   "id": "7be9a77d-6c89-4214-bf00-b26616d33cb5",
   "metadata": {},
   "outputs": [
    {
     "name": "stdout",
     "output_type": "stream",
     "text": [
      "True\n",
      "True\n",
      "False\n",
      "False\n",
      "False\n",
      "True\n",
      "False\n",
      "True\n",
      "True\n",
      "False\n",
      "True\n",
      "True\n",
      "False\n",
      "True == True: True\n",
      "True == False: False\n",
      "False == False: True\n",
      "True and True: True\n",
      "True or False: True\n",
      "1 is 1: True\n",
      "1 is not 2 True\n",
      "a in Saranya True\n",
      "S in Saranya True\n",
      "True\n",
      "a in an: True\n",
      "4 is 2 ** 2: True\n"
     ]
    }
   ],
   "source": [
    "print(3 > 2)\n",
    "print(3 >= 2)\n",
    "print(3 < 2)\n",
    "print(3 <= 2)\n",
    "print(3 == 2)\n",
    "print(3 != 2)\n",
    "print(len('mango') == len('avocado'))\n",
    "print(len('mango') != len('avocado'))\n",
    "print(len('mango') < len('avocado'))\n",
    "print(len('milk') != len('meat'))\n",
    "print(len('milk') == len('meat'))\n",
    "print(len('tomato') == len('potato'))\n",
    "print(len('python') > len('dragon'))\n",
    "\n",
    "print('True == True:',True == True)\n",
    "print('True == False:',True == False)\n",
    "print('False == False:',False == False)\n",
    "print('True and True:',True and True)\n",
    "print('True or False:',True or False)\n",
    "\n",
    "#print('1 is 1:', 1 is 1)\n",
    "print('1 is 1:', 1 == 1)\n",
    "#print('1 is not 2', 1 is not 2)\n",
    "print('1 is not 2', 1 != 2)\n",
    "print('a in Saranya','a' in 'Saranya')\n",
    "print('S in Saranya','S' in 'Saranya')\n",
    "print('coding' in 'coding for all')\n",
    "print('a in an:', 'a' in 'an')\n",
    "# print('4 is 2 ** 2:', 4 is 2 ** 2)\n",
    "print('4 is 2 ** 2:', 4 == 2 ** 2)"
   ]
  },
  {
   "cell_type": "code",
   "execution_count": 53,
   "id": "76f8c7a8-86a9-473c-97fe-2e43b212d28f",
   "metadata": {},
   "outputs": [
    {
     "name": "stdout",
     "output_type": "stream",
     "text": [
      "True\n",
      "False\n",
      "False\n",
      "True\n",
      "True\n",
      "False\n",
      "False\n",
      "False\n",
      "True\n",
      "True\n",
      "False\n"
     ]
    }
   ],
   "source": [
    "print(3 > 2 and 4>3)\n",
    "print(3 > 3 and 4<3)\n",
    "print(3 < 2 and 4<3)\n",
    "print(3>2 or 4>3)\n",
    "print(3>2 or 4<3)\n",
    "print(3<2 or 4<3)\n",
    "print(not 3>2)\n",
    "print(not True)\n",
    "print(not False)\n",
    "print(not not True)\n",
    "print(not not False)"
   ]
  },
  {
   "cell_type": "markdown",
   "id": "6ad955cf-525b-4e0a-bafb-27ca0b99a22d",
   "metadata": {
    "jp-MarkdownHeadingCollapsed": true
   },
   "source": [
    "# String"
   ]
  },
  {
   "cell_type": "code",
   "execution_count": 1,
   "id": "311e96cf-08b5-42e8-9a32-94cdca9bc504",
   "metadata": {},
   "outputs": [
    {
     "name": "stdout",
     "output_type": "stream",
     "text": [
      "P\n",
      "1\n",
      "Hello, World!\n",
      "13\n",
      "I hope you are enjoying 30 days of python challenge\n",
      "I am a teacher and enjoy teaching.\n",
      "I didn't find anything as rewarding as empowering people.\n",
      "That is why I created 30 days of python.\n",
      "I am a teacher and enjoy teaching.\n",
      "I didn't find anything as rewarding as empowering people.\n",
      "That is why I created 30 days of python.\n",
      "Saranya d\n",
      "7\n",
      "1\n",
      "True\n",
      "9\n"
     ]
    }
   ],
   "source": [
    "# single like comment\n",
    "letter = 'P'\n",
    "print(letter)\n",
    "print(len(letter))\n",
    "greeting = 'Hello, World!'\n",
    "print(greeting)\n",
    "print(len(greeting))\n",
    "sentence = \"I hope you are enjoying 30 days of python challenge\"\n",
    "print(sentence)\n",
    "\n",
    "# multiline string\n",
    "multiline_string = '''I am a teacher and enjoy teaching.\n",
    "I didn't find anything as rewarding as empowering people.\n",
    "That is why I created 30 days of python.'''\n",
    "print(multiline_string)\n",
    "\n",
    "multiline_string = \"\"\"I am a teacher and enjoy teaching.\n",
    "I didn't find anything as rewarding as empowering people.\n",
    "That is why I created 30 days of python.\"\"\"\n",
    "print(multiline_string)\n",
    "\n",
    "first_name = 'Saranya'\n",
    "last_name = 'd'\n",
    "space  = ' '\n",
    "full_name = first_name + space + last_name\n",
    "print(full_name)\n",
    "print(len(first_name))\n",
    "print(len(last_name))\n",
    "print(len(first_name) > len(last_name))\n",
    "print(len(full_name))\n"
   ]
  },
  {
   "cell_type": "code",
   "execution_count": 21,
   "id": "b747293a-3108-4587-bbf6-d683c548699b",
   "metadata": {},
   "outputs": [
    {
     "name": "stdout",
     "output_type": "stream",
     "text": [
      "P\n",
      "y\n",
      "t\n",
      "h\n",
      "o\n",
      "n\n",
      "******\n",
      "P\n",
      "n\n",
      "y\n",
      "******\n",
      "n\n",
      "y\n"
     ]
    }
   ],
   "source": [
    "#### Unpacking characters \n",
    "language = 'Python'\n",
    "a,b,c,d,e,f = language\n",
    "print(a)\n",
    "print(b)\n",
    "print(c)\n",
    "print(d)\n",
    "print(e)\n",
    "print(f)\n",
    "print('******')\n",
    "# Accessing characters in strings by index\n",
    "first_letter  = language[0]\n",
    "second_letter  = language[1]\n",
    "last_index = len(language) - 1\n",
    "last_letter = language[last_index]\n",
    "print(first_letter)\n",
    "print(last_letter)\n",
    "print(second_letter)\n",
    "print('******')\n",
    "\n",
    "# If we want to start from right end we can use negative indexing. -1 is the last index\n",
    "last_letter = language[-1]\n",
    "print(last_letter)\n",
    "print(second_letter)"
   ]
  },
  {
   "cell_type": "markdown",
   "id": "116302c2-0962-43e2-bd07-b50370a5f069",
   "metadata": {
    "jp-MarkdownHeadingCollapsed": true
   },
   "source": [
    "# Slicing"
   ]
  },
  {
   "cell_type": "code",
   "execution_count": 13,
   "id": "276eb9ac-81dd-47a0-bc77-f9bfdfd70580",
   "metadata": {},
   "outputs": [
    {
     "name": "stdout",
     "output_type": "stream",
     "text": [
      "hon\n",
      "hon\n",
      "hon\n"
     ]
    }
   ],
   "source": [
    "first_three= language[0:3]\n",
    "last_three = language[3:6]\n",
    "print(last_three)\n",
    "\n",
    "last_three = language[-3:]\n",
    "print(last_three)\n",
    "last_three = language[3:]\n",
    "print(last_three)"
   ]
  },
  {
   "cell_type": "markdown",
   "id": "3cc32513-8878-44c3-b3bd-6a7765a3c27b",
   "metadata": {
    "jp-MarkdownHeadingCollapsed": true
   },
   "source": [
    "# Skipping character while splitting Python strings"
   ]
  },
  {
   "cell_type": "code",
   "execution_count": 15,
   "id": "518193f5-f743-4ec2-bb6b-08de0dbe350a",
   "metadata": {},
   "outputs": [
    {
     "name": "stdout",
     "output_type": "stream",
     "text": [
      "Pto\n"
     ]
    }
   ],
   "source": [
    "pto = language[0:6:2]\n",
    "print(pto)"
   ]
  },
  {
   "cell_type": "markdown",
   "id": "312fcaf4-f6d5-4f99-ae90-5277b832c5fe",
   "metadata": {
    "jp-MarkdownHeadingCollapsed": true
   },
   "source": [
    "# Escape sequence"
   ]
  },
  {
   "cell_type": "code",
   "execution_count": 25,
   "id": "828f0d4b-0d8f-4ce3-827d-93bab5d8b89b",
   "metadata": {},
   "outputs": [
    {
     "name": "stdout",
     "output_type": "stream",
     "text": [
      "I hope everyone is enjoying the python challenge. \n",
      "Do you?\n",
      "Days\tTopics\tExercises\n",
      "Day 1\t3\t5\n",
      "Day 2\t3\t5\n",
      "Day 3\t3\t5\n",
      "Day 4\t3\t5\n",
      "This is a back slash  symbol (\\)\n",
      "In every programming language it starts with \"Hello, World!\"\n"
     ]
    }
   ],
   "source": [
    "print('I hope everyone is enjoying the python challenge. \\nDo you?')\n",
    "print('Days\\tTopics\\tExercises')\n",
    "print('Day 1\\t3\\t5')\n",
    "print('Day 2\\t3\\t5')\n",
    "print('Day 3\\t3\\t5')\n",
    "print('Day 4\\t3\\t5')\n",
    "print('This is a back slash  symbol (\\\\)') # need to use \\ to escape \\\n",
    "print('In every programming language it starts with \\\"Hello, World!\\\"') # need to use \\ to escape \""
   ]
  },
  {
   "cell_type": "markdown",
   "id": "ff78e716-4d63-496e-b2ea-92ec41abdb52",
   "metadata": {
    "jp-MarkdownHeadingCollapsed": true
   },
   "source": [
    "## String Methods\n",
    "# capitalize(): Converts the first character the string to Capital Letter"
   ]
  },
  {
   "cell_type": "code",
   "execution_count": 30,
   "id": "296c9d2b-c169-49cc-946b-17c3ac56a1af",
   "metadata": {},
   "outputs": [
    {
     "name": "stdout",
     "output_type": "stream",
     "text": [
      "Thirty days of python\n"
     ]
    }
   ],
   "source": [
    "challenge = 'thirty days of python'\n",
    "print(challenge.capitalize())"
   ]
  },
  {
   "cell_type": "markdown",
   "id": "b66a80c6-7e3d-4d91-b74e-3caa3369aed2",
   "metadata": {
    "jp-MarkdownHeadingCollapsed": true
   },
   "source": [
    "# count(): returns occurrences of substring in string, count(substring, start=.., end=..)\n",
    "# endswith(): Checks if a string ends with a specified ending\n",
    "# expandtabs(): Replaces tab character with spaces, default tab size is 8. It takes tab size argument"
   ]
  },
  {
   "cell_type": "code",
   "execution_count": 37,
   "id": "aa93e605-b28b-4e9d-bf1c-ce54facd07c2",
   "metadata": {},
   "outputs": [
    {
     "name": "stdout",
     "output_type": "stream",
     "text": [
      "3\n",
      "1\n",
      "2\n",
      "***\n",
      "True\n",
      "False\n",
      "***\n",
      "thirty  days    of      python\n",
      "thirty    days      of        python\n"
     ]
    }
   ],
   "source": [
    "print(challenge.count('y'))\n",
    "print(challenge.count('y',7,14))\n",
    "print(challenge.count('th'))\n",
    "print('***')\n",
    "print(challenge.endswith('on'))\n",
    "print(challenge.endswith('tion'))\n",
    "print('***')\n",
    "challenge = 'thirty\\tdays\\tof\\tpython'\n",
    "print(challenge.expandtabs())\n",
    "print(challenge.expandtabs(10))"
   ]
  },
  {
   "cell_type": "markdown",
   "id": "92dfe6d1-8961-4c07-bc43-ba7e462db7f4",
   "metadata": {
    "jp-MarkdownHeadingCollapsed": true
   },
   "source": [
    "# find(): Returns the index of first occurrence of substring"
   ]
  },
  {
   "cell_type": "code",
   "execution_count": 40,
   "id": "37eb691e-b84d-426e-8133-234226c2c99d",
   "metadata": {},
   "outputs": [
    {
     "name": "stdout",
     "output_type": "stream",
     "text": [
      "5\n",
      "0\n"
     ]
    }
   ],
   "source": [
    "challenge = 'thirty days python'\n",
    "print(challenge.find('y'))\n",
    "print(challenge.find('th'))"
   ]
  },
  {
   "cell_type": "markdown",
   "id": "21859fec-92aa-43e1-b7ed-68221b45c9d3",
   "metadata": {
    "jp-MarkdownHeadingCollapsed": true
   },
   "source": [
    "# format()\tformats string into nicer output   "
   ]
  },
  {
   "cell_type": "code",
   "execution_count": 43,
   "id": "2b2c38f2-dd91-4267-9641-1696f763f8ae",
   "metadata": {},
   "outputs": [
    {
     "name": "stdout",
     "output_type": "stream",
     "text": [
      "I am Saranya Yetayeh. I am a teacher. i live in Finland.\n"
     ]
    }
   ],
   "source": [
    "first_name = 'Saranya'\n",
    "last_name = 'Yetayeh'\n",
    "job = 'teacher'\n",
    "country = 'Finland'\n",
    "sentence = 'I am {} {}. I am a {}. i live in {}.'.format(first_name,last_name,job,country)\n",
    "print(sentence)"
   ]
  },
  {
   "cell_type": "code",
   "execution_count": 47,
   "id": "231e2a8c-17d4-4cfc-8e82-d4bf2586ba04",
   "metadata": {},
   "outputs": [
    {
     "name": "stdout",
     "output_type": "stream",
     "text": [
      "The area of the circle with 10 is 3.14\n"
     ]
    }
   ],
   "source": [
    "radius = 10\n",
    "pi = 3.14\n",
    "area = pi\n",
    "result = 'The area of the circle with {} is {}'.format(str(radius),str(area))\n",
    "print(result)"
   ]
  },
  {
   "cell_type": "markdown",
   "id": "9b0a4eb9-db3e-4a50-b6f9-3830cc15094b",
   "metadata": {
    "jp-MarkdownHeadingCollapsed": true
   },
   "source": [
    "# index(): Returns the index of substring"
   ]
  },
  {
   "cell_type": "code",
   "execution_count": 50,
   "id": "863f7624-f050-4537-bde3-b0fe1c566609",
   "metadata": {},
   "outputs": [
    {
     "name": "stdout",
     "output_type": "stream",
     "text": [
      "5\n",
      "0\n"
     ]
    }
   ],
   "source": [
    "print(challenge.index('y'))\n",
    "print(challenge.index('th'))"
   ]
  },
  {
   "cell_type": "markdown",
   "id": "32c80445-8d3d-46b3-84dd-3e5f46292bdc",
   "metadata": {
    "jp-MarkdownHeadingCollapsed": true
   },
   "source": [
    "# isalnum(): Checks alphanumeric character"
   ]
  },
  {
   "cell_type": "code",
   "execution_count": 53,
   "id": "23161ffe-0ce3-4dfc-a575-01cdc2debefb",
   "metadata": {},
   "outputs": [
    {
     "name": "stdout",
     "output_type": "stream",
     "text": [
      "True\n",
      "True\n",
      "False\n",
      "False\n"
     ]
    }
   ],
   "source": [
    "challenge = 'ThirtyDaysPython'\n",
    "print(challenge.isalnum())\n",
    "challenge = '30DaysPython'\n",
    "print(challenge.isalnum())\n",
    "challenge = 'thirty days of python'\n",
    "print(challenge.isalnum())\n",
    "challenge = 'thirty days of python 2019'\n",
    "print(challenge.isalnum())"
   ]
  },
  {
   "cell_type": "markdown",
   "id": "77f64408-8192-41c8-9508-23e8b939b318",
   "metadata": {
    "jp-MarkdownHeadingCollapsed": true
   },
   "source": [
    "# isalpha(): Checks if all characters are alphabets"
   ]
  },
  {
   "cell_type": "code",
   "execution_count": 56,
   "id": "fe61b01e-ed54-416c-8927-2b43183f4352",
   "metadata": {},
   "outputs": [
    {
     "name": "stdout",
     "output_type": "stream",
     "text": [
      "True\n",
      "False\n",
      "False\n"
     ]
    }
   ],
   "source": [
    "challenge = 'ThirtyDaysPython'\n",
    "print(challenge.isalpha())\n",
    "challenge = '30DaysPython'\n",
    "print(challenge.isalpha())\n",
    "challenge = '30'\n",
    "print(challenge.isalpha())"
   ]
  },
  {
   "cell_type": "markdown",
   "id": "1cdec90b-2a3c-4468-a059-61c8275a88c9",
   "metadata": {
    "jp-MarkdownHeadingCollapsed": true
   },
   "source": [
    "# isdecimal(): Checks Decimal Characters"
   ]
  },
  {
   "cell_type": "code",
   "execution_count": 65,
   "id": "22b48698-50e2-4afe-8c61-222cfa3a2cc5",
   "metadata": {},
   "outputs": [
    {
     "name": "stdout",
     "output_type": "stream",
     "text": [
      "True\n",
      "False\n"
     ]
    }
   ],
   "source": [
    "challenge = '12345'\n",
    "print(challenge.isdecimal()) \n",
    "challenge = '5.6'\n",
    "print(challenge.isdecimal()) "
   ]
  },
  {
   "cell_type": "markdown",
   "id": "094b9706-ceb9-4ee5-a85a-8b5814dd700d",
   "metadata": {
    "jp-MarkdownHeadingCollapsed": true
   },
   "source": [
    "# isdigit(): Checks Digit Characters"
   ]
  },
  {
   "cell_type": "code",
   "execution_count": 73,
   "id": "78c6a4ff-61a8-4631-8fb0-fa21e7960d95",
   "metadata": {},
   "outputs": [
    {
     "name": "stdout",
     "output_type": "stream",
     "text": [
      "True\n",
      "False\n"
     ]
    }
   ],
   "source": [
    "challenge = '12345'\n",
    "print(challenge.isdigit()) \n",
    "challenge = 'hello'\n",
    "print(challenge.isdigit()) "
   ]
  },
  {
   "cell_type": "markdown",
   "id": "ea1f1494-7d1a-41f3-b56c-c27f8ab7cf22",
   "metadata": {
    "jp-MarkdownHeadingCollapsed": true
   },
   "source": [
    "# isidentifier():Checks for valid identifier means it check if a string is a valid variable name"
   ]
  },
  {
   "cell_type": "code",
   "execution_count": 76,
   "id": "d93ecc29-3ca0-4190-b383-636403715b88",
   "metadata": {},
   "outputs": [
    {
     "name": "stdout",
     "output_type": "stream",
     "text": [
      "False\n",
      "True\n"
     ]
    }
   ],
   "source": [
    "challenge = '30DaysOfPython'\n",
    "print(challenge.isidentifier()) \n",
    "challenge = 'thirty_days_of_python'\n",
    "print(challenge.isidentifier())"
   ]
  },
  {
   "cell_type": "markdown",
   "id": "8ae7d5a9-a5d2-4ad3-abc0-3c3a2c82b89a",
   "metadata": {
    "jp-MarkdownHeadingCollapsed": true
   },
   "source": [
    "# islower():Checks if all alphabets in a string are lowercase\n",
    "# isupper(): returns if all characters are uppercase characters"
   ]
  },
  {
   "cell_type": "code",
   "execution_count": 83,
   "id": "baf4e95a-aa07-4fcf-acb4-a35b1a6427ee",
   "metadata": {},
   "outputs": [
    {
     "name": "stdout",
     "output_type": "stream",
     "text": [
      "True\n",
      "False\n",
      "False\n",
      "True\n"
     ]
    }
   ],
   "source": [
    "challenge = 'thirty days of python'\n",
    "print(challenge.islower())\n",
    "challenge = 'Thirty days of python'\n",
    "print(challenge.islower())\n",
    "\n",
    "challenge = 'thirty days of python'\n",
    "print(challenge.isupper()) # True\n",
    "challenge = 'THIRTY'\n",
    "print(challenge.isupper())"
   ]
  },
  {
   "cell_type": "markdown",
   "id": "a192fbb4-138f-4fcb-af10-594321fca7ab",
   "metadata": {
    "jp-MarkdownHeadingCollapsed": true
   },
   "source": [
    "# isnumeric():Checks numeric characters"
   ]
  },
  {
   "cell_type": "code",
   "execution_count": 88,
   "id": "089f6667-f139-4572-be85-d89264a3063e",
   "metadata": {},
   "outputs": [
    {
     "name": "stdout",
     "output_type": "stream",
     "text": [
      "True\n",
      "False\n"
     ]
    }
   ],
   "source": [
    "num = '10'\n",
    "print(num.isnumeric())     \n",
    "print('ten'.isnumeric())"
   ]
  },
  {
   "cell_type": "markdown",
   "id": "21c2053b-09ca-4072-a71d-ec5a835b46e5",
   "metadata": {
    "jp-MarkdownHeadingCollapsed": true
   },
   "source": [
    "# join(): Returns a concatenated string"
   ]
  },
  {
   "cell_type": "code",
   "execution_count": 91,
   "id": "1a967c10-d447-4ee8-9f5e-aeae44bfdaef",
   "metadata": {},
   "outputs": [
    {
     "name": "stdout",
     "output_type": "stream",
     "text": [
      "HTML#, CSS#, JAVASCRIPT#, REACT\n"
     ]
    }
   ],
   "source": [
    "web_tech = ['HTML','CSS','JAVASCRIPT','REACT']\n",
    "result = '#, '.join(web_tech)\n",
    "print(result)"
   ]
  },
  {
   "cell_type": "markdown",
   "id": "0a7a55ad-2f58-4e29-8c2b-c753d8914eea",
   "metadata": {
    "jp-MarkdownHeadingCollapsed": true
   },
   "source": [
    "# strip(): Removes both leading and trailing characters\n",
    "# replace(): Replaces substring inside\n",
    "# split():Splits String from Left\n",
    "# title(): Returns a Title Cased String"
   ]
  },
  {
   "cell_type": "code",
   "execution_count": 104,
   "id": "fd9864b4-fcaf-4e63-af50-dcb228cb59ab",
   "metadata": {},
   "outputs": [
    {
     "name": "stdout",
     "output_type": "stream",
     "text": [
      " thirty days of python \n",
      " thirty days of coding \n",
      "['thirty', 'days', 'of', 'python']\n",
      " Thirty Days Of Python \n",
      " THIRTY DAYS OF PYTHON \n",
      " THIRTY DAYS OF PYTHON \n"
     ]
    }
   ],
   "source": [
    "challenge = ' thirty days of python '\n",
    "print(challenge.strip('y'))\n",
    "print(challenge.replace('python','coding'))\n",
    "print(challenge.split())\n",
    "print(challenge.title())\n",
    "print(challenge.swapcase())"
   ]
  },
  {
   "cell_type": "code",
   "execution_count": null,
   "id": "7fa69a04-b393-4a7e-a3d6-fc2bb84e2b85",
   "metadata": {},
   "outputs": [],
   "source": []
  }
 ],
 "metadata": {
  "kernelspec": {
   "display_name": "Python [conda env:base] *",
   "language": "python",
   "name": "conda-base-py"
  },
  "language_info": {
   "codemirror_mode": {
    "name": "ipython",
    "version": 3
   },
   "file_extension": ".py",
   "mimetype": "text/x-python",
   "name": "python",
   "nbconvert_exporter": "python",
   "pygments_lexer": "ipython3",
   "version": "3.12.7"
  }
 },
 "nbformat": 4,
 "nbformat_minor": 5
}
