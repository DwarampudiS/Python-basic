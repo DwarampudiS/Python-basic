{
 "cells": [
  {
   "cell_type": "markdown",
   "id": "6762b429-7fde-4afc-9b1f-f1aa466f0d86",
   "metadata": {},
   "source": [
    "# Basic Python"
   ]
  },
  {
   "cell_type": "code",
   "execution_count": 7,
   "id": "4f0c53f1-a4da-4eda-8731-2348c8ee9e91",
   "metadata": {},
   "outputs": [
    {
     "data": {
      "text/plain": [
       "2"
      ]
     },
     "execution_count": 7,
     "metadata": {},
     "output_type": "execute_result"
    }
   ],
   "source": [
    "1+1"
   ]
  },
  {
   "cell_type": "markdown",
   "id": "dc84d87c-1d6c-48f9-bd92-7f598bb08a06",
   "metadata": {},
   "source": [
    "2-1"
   ]
  },
  {
   "cell_type": "code",
   "execution_count": 10,
   "id": "e92d46ae-3636-4c35-9075-102b9c67ba33",
   "metadata": {},
   "outputs": [
    {
     "data": {
      "text/plain": [
       "12"
      ]
     },
     "execution_count": 10,
     "metadata": {},
     "output_type": "execute_result"
    }
   ],
   "source": [
    "3*4"
   ]
  },
  {
   "cell_type": "code",
   "execution_count": 12,
   "id": "1cc6f408-42e2-4217-8edd-7485599962c8",
   "metadata": {},
   "outputs": [
    {
     "data": {
      "text/plain": [
       "2.0"
      ]
     },
     "execution_count": 12,
     "metadata": {},
     "output_type": "execute_result"
    }
   ],
   "source": [
    "8/4"
   ]
  },
  {
   "cell_type": "code",
   "execution_count": 14,
   "id": "405ef202-8a15-4bc1-a662-ce133e8b04a1",
   "metadata": {},
   "outputs": [
    {
     "data": {
      "text/plain": [
       "1.6"
      ]
     },
     "execution_count": 14,
     "metadata": {},
     "output_type": "execute_result"
    }
   ],
   "source": [
    "8/5"
   ]
  },
  {
   "cell_type": "code",
   "execution_count": 16,
   "id": "16753908-5292-4c00-b9a3-1d58a66c4abf",
   "metadata": {},
   "outputs": [
    {
     "data": {
      "text/plain": [
       "2.0"
      ]
     },
     "execution_count": 16,
     "metadata": {},
     "output_type": "execute_result"
    }
   ],
   "source": [
    "8/4"
   ]
  },
  {
   "cell_type": "code",
   "execution_count": 18,
   "id": "75844d3a-99ee-48cc-a9a5-0570a374135b",
   "metadata": {},
   "outputs": [
    {
     "data": {
      "text/plain": [
       "2"
      ]
     },
     "execution_count": 18,
     "metadata": {},
     "output_type": "execute_result"
    }
   ],
   "source": [
    "8//4"
   ]
  },
  {
   "cell_type": "code",
   "execution_count": 20,
   "id": "bcd54de5-742b-4615-aa66-786d357a1a95",
   "metadata": {},
   "outputs": [
    {
     "data": {
      "text/plain": [
       "10"
      ]
     },
     "execution_count": 20,
     "metadata": {},
     "output_type": "execute_result"
    }
   ],
   "source": [
    "8+9-7"
   ]
  },
  {
   "cell_type": "code",
   "execution_count": 24,
   "id": "c796373b-b982-4f67-9a5e-225f04416013",
   "metadata": {},
   "outputs": [
    {
     "ename": "SyntaxError",
     "evalue": "invalid syntax (3517709320.py, line 1)",
     "output_type": "error",
     "traceback": [
      "\u001b[1;36m  Cell \u001b[1;32mIn[24], line 1\u001b[1;36m\u001b[0m\n\u001b[1;33m    8+8-\u001b[0m\n\u001b[1;37m        ^\u001b[0m\n\u001b[1;31mSyntaxError\u001b[0m\u001b[1;31m:\u001b[0m invalid syntax\n"
     ]
    }
   ],
   "source": [
    "8+8-"
   ]
  },
  {
   "cell_type": "markdown",
   "id": "4845d5d8-5b20-4bde-aace-15ae5b1e9552",
   "metadata": {},
   "source": [
    "##### "
   ]
  },
  {
   "cell_type": "code",
   "execution_count": 27,
   "id": "644608a5-327f-421b-8134-92a0e5e3ca1c",
   "metadata": {},
   "outputs": [
    {
     "data": {
      "text/plain": [
       "30"
      ]
     },
     "execution_count": 27,
     "metadata": {},
     "output_type": "execute_result"
    }
   ],
   "source": [
    "5+5*5"
   ]
  },
  {
   "cell_type": "code",
   "execution_count": 29,
   "id": "2b969af7-1178-4cc5-8a7e-44e93aef0753",
   "metadata": {},
   "outputs": [
    {
     "data": {
      "text/plain": [
       "50"
      ]
     },
     "execution_count": 29,
     "metadata": {},
     "output_type": "execute_result"
    }
   ],
   "source": [
    "(5+5)*5 #BODMAS (Bracket || order || divide || multiply || add || subtract)"
   ]
  },
  {
   "cell_type": "code",
   "execution_count": 31,
   "id": "21d3250d-38fc-4205-b3b8-a643d2e29877",
   "metadata": {},
   "outputs": [
    {
     "data": {
      "text/plain": [
       "32"
      ]
     },
     "execution_count": 31,
     "metadata": {},
     "output_type": "execute_result"
    }
   ],
   "source": [
    "2*2*2*2*2"
   ]
  },
  {
   "cell_type": "code",
   "execution_count": 33,
   "id": "5128ee25-c7c6-4099-831a-de07d29f63ac",
   "metadata": {},
   "outputs": [
    {
     "data": {
      "text/plain": [
       "32"
      ]
     },
     "execution_count": 33,
     "metadata": {},
     "output_type": "execute_result"
    }
   ],
   "source": [
    "2**5"
   ]
  },
  {
   "cell_type": "code",
   "execution_count": 35,
   "id": "8c1d087a-4fcd-4bd8-8bef-62fdcd9f6813",
   "metadata": {},
   "outputs": [
    {
     "data": {
      "text/plain": [
       "5.0"
      ]
     },
     "execution_count": 35,
     "metadata": {},
     "output_type": "execute_result"
    }
   ],
   "source": [
    "15/3"
   ]
  },
  {
   "cell_type": "code",
   "execution_count": 37,
   "id": "d2d886bc-51b1-47a2-86d1-c1cd292146ee",
   "metadata": {},
   "outputs": [
    {
     "data": {
      "text/plain": [
       "3"
      ]
     },
     "execution_count": 37,
     "metadata": {},
     "output_type": "execute_result"
    }
   ],
   "source": [
    "10//3 #inter division"
   ]
  },
  {
   "cell_type": "code",
   "execution_count": 39,
   "id": "9e58870d-78a5-4848-b7ec-0613d67881d5",
   "metadata": {},
   "outputs": [
    {
     "data": {
      "text/plain": [
       "1"
      ]
     },
     "execution_count": 39,
     "metadata": {},
     "output_type": "execute_result"
    }
   ],
   "source": [
    "15%2"
   ]
  },
  {
   "cell_type": "code",
   "execution_count": 41,
   "id": "553326c6-0af2-44db-bf3c-931555669f07",
   "metadata": {},
   "outputs": [
    {
     "ename": "SyntaxError",
     "evalue": "invalid syntax (1537055890.py, line 1)",
     "output_type": "error",
     "traceback": [
      "\u001b[1;36m  Cell \u001b[1;32mIn[41], line 1\u001b[1;36m\u001b[0m\n\u001b[1;33m    15%%2\u001b[0m\n\u001b[1;37m       ^\u001b[0m\n\u001b[1;31mSyntaxError\u001b[0m\u001b[1;31m:\u001b[0m invalid syntax\n"
     ]
    }
   ],
   "source": [
    "15%%2"
   ]
  },
  {
   "cell_type": "code",
   "execution_count": 45,
   "id": "c3b8798b-29e3-453f-9546-e3c5e243a119",
   "metadata": {},
   "outputs": [
    {
     "data": {
      "text/plain": [
       "5"
      ]
     },
     "execution_count": 45,
     "metadata": {},
     "output_type": "execute_result"
    }
   ],
   "source": [
    "a=2\n",
    "b=3\n",
    "c = a+b\n",
    "c"
   ]
  },
  {
   "cell_type": "code",
   "execution_count": 47,
   "id": "f1ece50a-a7c4-4ea4-afad-62db157dda3f",
   "metadata": {},
   "outputs": [
    {
     "data": {
      "text/plain": [
       "str"
      ]
     },
     "execution_count": 47,
     "metadata": {},
     "output_type": "execute_result"
    }
   ],
   "source": [
    "a=3\n",
    "b = 'nit'\n",
    "type(b)"
   ]
  },
  {
   "cell_type": "code",
   "execution_count": 57,
   "id": "310ea9bc-d381-462a-acd7-34b4ba5394c4",
   "metadata": {},
   "outputs": [
    {
     "ename": "SyntaxError",
     "evalue": "invalid syntax. Perhaps you forgot a comma? (1293747381.py, line 1)",
     "output_type": "error",
     "traceback": [
      "\u001b[1;36m  Cell \u001b[1;32mIn[57], line 1\u001b[1;36m\u001b[0m\n\u001b[1;33m    print('naresh it's 'tech')\u001b[0m\n\u001b[1;37m          ^\u001b[0m\n\u001b[1;31mSyntaxError\u001b[0m\u001b[1;31m:\u001b[0m invalid syntax. Perhaps you forgot a comma?\n"
     ]
    }
   ],
   "source": [
    "print('naresh it's 'tech')"
   ]
  },
  {
   "cell_type": "code",
   "execution_count": 61,
   "id": "03c613f2-dd9b-45a8-beb5-b5829ebfcad3",
   "metadata": {},
   "outputs": [
    {
     "name": "stdout",
     "output_type": "stream",
     "text": [
      "naresh it's \"tech\"\n"
     ]
    }
   ],
   "source": [
    "print('naresh it\\'s \"tech\"')"
   ]
  },
  {
   "cell_type": "code",
   "execution_count": 63,
   "id": "0b13215e-b402-445b-bccc-231c6a96cc06",
   "metadata": {},
   "outputs": [
    {
     "name": "stdout",
     "output_type": "stream",
     "text": [
      "naresh it tech\n"
     ]
    }
   ],
   "source": [
    "print('naresh it','tech')"
   ]
  },
  {
   "cell_type": "code",
   "execution_count": 65,
   "id": "ee0a49ad-d407-4b5e-b44d-cdbc95b07455",
   "metadata": {},
   "outputs": [
    {
     "ename": "SyntaxError",
     "evalue": "unterminated string literal (detected at line 1) (3560509440.py, line 1)",
     "output_type": "error",
     "traceback": [
      "\u001b[1;36m  Cell \u001b[1;32mIn[65], line 1\u001b[1;36m\u001b[0m\n\u001b[1;33m    print('naresh it's'tech\")\u001b[0m\n\u001b[1;37m                      ^\u001b[0m\n\u001b[1;31mSyntaxError\u001b[0m\u001b[1;31m:\u001b[0m unterminated string literal (detected at line 1)\n"
     ]
    }
   ],
   "source": [
    "print('naresh it's'tech\")"
   ]
  },
  {
   "cell_type": "code",
   "execution_count": 71,
   "id": "5fc2c8c2-50d2-4287-a811-4c2bc68510fa",
   "metadata": {},
   "outputs": [
    {
     "name": "stdout",
     "output_type": "stream",
     "text": [
      "naresh it's'tech\n"
     ]
    }
   ],
   "source": [
    "print(\"naresh it's'tech\")"
   ]
  },
  {
   "cell_type": "code",
   "execution_count": 67,
   "id": "882fdde3-56a6-4704-bc32-a7124019b398",
   "metadata": {},
   "outputs": [
    {
     "data": {
      "text/plain": [
       "'nitnit'"
      ]
     },
     "execution_count": 67,
     "metadata": {},
     "output_type": "execute_result"
    }
   ],
   "source": [
    "'nit' + 'nit'"
   ]
  },
  {
   "cell_type": "code",
   "execution_count": 69,
   "id": "70e9897d-c6cd-41c2-82da-c2d20de6dc5b",
   "metadata": {},
   "outputs": [
    {
     "data": {
      "text/plain": [
       "'nitnit'"
      ]
     },
     "execution_count": 69,
     "metadata": {},
     "output_type": "execute_result"
    }
   ],
   "source": [
    "'nit' 'nit'"
   ]
  },
  {
   "cell_type": "code",
   "execution_count": 73,
   "id": "241c962a-53c5-4fed-ad14-dcb84fb57e7e",
   "metadata": {},
   "outputs": [
    {
     "data": {
      "text/plain": [
       "'nitnitnitnitnitnitnitnitnitnit'"
      ]
     },
     "execution_count": 73,
     "metadata": {},
     "output_type": "execute_result"
    }
   ],
   "source": [
    "10 * 'nit'"
   ]
  },
  {
   "cell_type": "code",
   "execution_count": 75,
   "id": "9da6d84a-bb47-4d0f-8dd4-d54d4ff6baa9",
   "metadata": {},
   "outputs": [
    {
     "data": {
      "text/plain": [
       "' nit nit nit nit nit nit nit nit nit nit'"
      ]
     },
     "execution_count": 75,
     "metadata": {},
     "output_type": "execute_result"
    }
   ],
   "source": [
    "10 * ' nit'"
   ]
  },
  {
   "cell_type": "code",
   "execution_count": 77,
   "id": "4993cc7f-1c97-4d59-87cf-1b4f3c13cf1b",
   "metadata": {},
   "outputs": [
    {
     "name": "stdout",
     "output_type": "stream",
     "text": [
      "c:\n",
      "it1\n"
     ]
    }
   ],
   "source": [
    "print('c:\\nit1') #\\n new line"
   ]
  },
  {
   "cell_type": "code",
   "execution_count": 79,
   "id": "04ca1608-2e46-435a-aeb9-153ff5316db3",
   "metadata": {},
   "outputs": [
    {
     "name": "stdout",
     "output_type": "stream",
     "text": [
      "c:\\nit1\n"
     ]
    }
   ],
   "source": [
    "print(r'c:\\nit1') # raw line"
   ]
  },
  {
   "cell_type": "markdown",
   "id": "99f63352-3b50-4aaf-bb67-b084b2ad2d43",
   "metadata": {},
   "source": [
    "# Variable || identifier || object"
   ]
  },
  {
   "cell_type": "markdown",
   "id": "d3f7062b-548c-4f09-a77d-bf706eeaf5cd",
   "metadata": {},
   "source": [
    "2"
   ]
  },
  {
   "cell_type": "code",
   "execution_count": 86,
   "id": "dc60e275-7ee4-4cf9-b5b1-da513a8394fa",
   "metadata": {},
   "outputs": [],
   "source": [
    "x = 2"
   ]
  },
  {
   "cell_type": "code",
   "execution_count": 88,
   "id": "5a2c794b-8ca1-41b3-9a74-4ceef67d5640",
   "metadata": {},
   "outputs": [
    {
     "data": {
      "text/plain": [
       "5"
      ]
     },
     "execution_count": 88,
     "metadata": {},
     "output_type": "execute_result"
    }
   ],
   "source": [
    "x+3"
   ]
  },
  {
   "cell_type": "code",
   "execution_count": 90,
   "id": "d8c007f4-075d-47c5-87c2-e1931c9a6713",
   "metadata": {},
   "outputs": [],
   "source": [
    "y=3"
   ]
  },
  {
   "cell_type": "code",
   "execution_count": 92,
   "id": "8311a7bb-69e8-49d1-b3e0-1864d0a88c80",
   "metadata": {},
   "outputs": [
    {
     "data": {
      "text/plain": [
       "5"
      ]
     },
     "execution_count": 92,
     "metadata": {},
     "output_type": "execute_result"
    }
   ],
   "source": [
    "x+y"
   ]
  },
  {
   "cell_type": "code",
   "execution_count": 94,
   "id": "b05cfe72-3e06-41a7-88fc-9043ee0c27bb",
   "metadata": {},
   "outputs": [
    {
     "data": {
      "text/plain": [
       "12"
      ]
     },
     "execution_count": 94,
     "metadata": {},
     "output_type": "execute_result"
    }
   ],
   "source": [
    "x+10"
   ]
  },
  {
   "cell_type": "code",
   "execution_count": 102,
   "id": "d3a19e40-2d97-4a72-81a2-bab7c17f4ef6",
   "metadata": {},
   "outputs": [
    {
     "ename": "TypeError",
     "evalue": "can only concatenate str (not \"int\") to str",
     "output_type": "error",
     "traceback": [
      "\u001b[1;31m---------------------------------------------------------------------------\u001b[0m",
      "\u001b[1;31mTypeError\u001b[0m                                 Traceback (most recent call last)",
      "Cell \u001b[1;32mIn[102], line 1\u001b[0m\n\u001b[1;32m----> 1\u001b[0m _ \u001b[38;5;241m+\u001b[39m y\n",
      "\u001b[1;31mTypeError\u001b[0m: can only concatenate str (not \"int\") to str"
     ]
    }
   ],
   "source": [
    "_ + y # _ means it stores previous values/results"
   ]
  },
  {
   "cell_type": "code",
   "execution_count": null,
   "id": "3d965e29-597d-4051-9c81-3df630119934",
   "metadata": {},
   "outputs": [],
   "source": []
  },
  {
   "cell_type": "code",
   "execution_count": null,
   "id": "07cc2ea3-bbd8-4ffc-a070-b9765ed90f8e",
   "metadata": {},
   "outputs": [],
   "source": []
  },
  {
   "cell_type": "code",
   "execution_count": 104,
   "id": "cf9f73e9-27aa-414e-8868-dd67d61b880b",
   "metadata": {},
   "outputs": [],
   "source": [
    "name = 'nit'"
   ]
  },
  {
   "cell_type": "code",
   "execution_count": 106,
   "id": "56cf1502-b19f-4265-801f-c006d7e3c3c3",
   "metadata": {},
   "outputs": [
    {
     "data": {
      "text/plain": [
       "'nit'"
      ]
     },
     "execution_count": 106,
     "metadata": {},
     "output_type": "execute_result"
    }
   ],
   "source": [
    "name"
   ]
  },
  {
   "cell_type": "code",
   "execution_count": 108,
   "id": "7671a413-fce1-47ec-a49b-f6155d7029a2",
   "metadata": {},
   "outputs": [
    {
     "data": {
      "text/plain": [
       "'nittech'"
      ]
     },
     "execution_count": 108,
     "metadata": {},
     "output_type": "execute_result"
    }
   ],
   "source": [
    "name + 'tech'"
   ]
  },
  {
   "cell_type": "code",
   "execution_count": 110,
   "id": "c3194a96-aef3-4c51-a81a-cdf083514e04",
   "metadata": {},
   "outputs": [
    {
     "data": {
      "text/plain": [
       "'nit tech'"
      ]
     },
     "execution_count": 110,
     "metadata": {},
     "output_type": "execute_result"
    }
   ],
   "source": [
    "name + ' tech'"
   ]
  },
  {
   "cell_type": "code",
   "execution_count": 112,
   "id": "93ff23af-d02e-443e-a085-669419b1354f",
   "metadata": {},
   "outputs": [
    {
     "data": {
      "text/plain": [
       "3"
      ]
     },
     "execution_count": 112,
     "metadata": {},
     "output_type": "execute_result"
    }
   ],
   "source": [
    "len(name)"
   ]
  },
  {
   "cell_type": "code",
   "execution_count": 114,
   "id": "5a1ba97a-fb0a-4e6a-a202-45e23f1ecdf5",
   "metadata": {},
   "outputs": [
    {
     "ename": "SyntaxError",
     "evalue": "invalid syntax (1908185591.py, line 1)",
     "output_type": "error",
     "traceback": [
      "\u001b[1;36m  Cell \u001b[1;32mIn[114], line 1\u001b[1;36m\u001b[0m\n\u001b[1;33m    name 'tech'\u001b[0m\n\u001b[1;37m         ^\u001b[0m\n\u001b[1;31mSyntaxError\u001b[0m\u001b[1;31m:\u001b[0m invalid syntax\n"
     ]
    }
   ],
   "source": [
    "name 'tech'"
   ]
  },
  {
   "cell_type": "code",
   "execution_count": 116,
   "id": "6cb18c53-4d5a-44c0-9baa-f86ecb12b6fd",
   "metadata": {},
   "outputs": [
    {
     "data": {
      "text/plain": [
       "'n'"
      ]
     },
     "execution_count": 116,
     "metadata": {},
     "output_type": "execute_result"
    }
   ],
   "source": [
    "name[0]"
   ]
  },
  {
   "cell_type": "code",
   "execution_count": 118,
   "id": "51c4e6ce-22b7-488d-95ae-ea70801ed02f",
   "metadata": {},
   "outputs": [
    {
     "ename": "IndexError",
     "evalue": "string index out of range",
     "output_type": "error",
     "traceback": [
      "\u001b[1;31m---------------------------------------------------------------------------\u001b[0m",
      "\u001b[1;31mIndexError\u001b[0m                                Traceback (most recent call last)",
      "Cell \u001b[1;32mIn[118], line 1\u001b[0m\n\u001b[1;32m----> 1\u001b[0m name[\u001b[38;5;241m5\u001b[39m]\n",
      "\u001b[1;31mIndexError\u001b[0m: string index out of range"
     ]
    }
   ],
   "source": [
    "name[5]"
   ]
  },
  {
   "cell_type": "code",
   "execution_count": 120,
   "id": "8e019c25-5140-49bb-9829-281977f5c3d7",
   "metadata": {},
   "outputs": [
    {
     "ename": "IndexError",
     "evalue": "string index out of range",
     "output_type": "error",
     "traceback": [
      "\u001b[1;31m---------------------------------------------------------------------------\u001b[0m",
      "\u001b[1;31mIndexError\u001b[0m                                Traceback (most recent call last)",
      "Cell \u001b[1;32mIn[120], line 1\u001b[0m\n\u001b[1;32m----> 1\u001b[0m name[\u001b[38;5;241m7\u001b[39m]\n",
      "\u001b[1;31mIndexError\u001b[0m: string index out of range"
     ]
    }
   ],
   "source": [
    "name[7]"
   ]
  },
  {
   "cell_type": "code",
   "execution_count": 122,
   "id": "85243154-6a27-4028-82d8-a05659cdc95d",
   "metadata": {},
   "outputs": [
    {
     "data": {
      "text/plain": [
       "'t'"
      ]
     },
     "execution_count": 122,
     "metadata": {},
     "output_type": "execute_result"
    }
   ],
   "source": [
    "name[-1]"
   ]
  },
  {
   "cell_type": "markdown",
   "id": "e7665cbf-6f42-43d7-93a6-9b94bbb5ca89",
   "metadata": {},
   "source": [
    "# slicing"
   ]
  },
  {
   "cell_type": "code",
   "execution_count": 126,
   "id": "388ef37f-345e-4197-b9b7-6ead0c7a94f5",
   "metadata": {},
   "outputs": [
    {
     "data": {
      "text/plain": [
       "'n'"
      ]
     },
     "execution_count": 126,
     "metadata": {},
     "output_type": "execute_result"
    }
   ],
   "source": [
    "name[0:1]"
   ]
  },
  {
   "cell_type": "code",
   "execution_count": 128,
   "id": "8d03241d-b70b-4b79-8979-e0dc9b511ca6",
   "metadata": {},
   "outputs": [
    {
     "data": {
      "text/plain": [
       "'it'"
      ]
     },
     "execution_count": 128,
     "metadata": {},
     "output_type": "execute_result"
    }
   ],
   "source": [
    "name[1:] #print the element from 1st index till last"
   ]
  },
  {
   "cell_type": "code",
   "execution_count": 130,
   "id": "4b8ce300-ef0b-4fd5-9d0d-f8cca3a4bf32",
   "metadata": {},
   "outputs": [
    {
     "data": {
      "text/plain": [
       "'nit'"
      ]
     },
     "execution_count": 130,
     "metadata": {},
     "output_type": "execute_result"
    }
   ],
   "source": [
    "name[:4] #print the element from 1st index till last to n-1"
   ]
  },
  {
   "cell_type": "code",
   "execution_count": 132,
   "id": "a8941b8f-3f12-44d2-9df9-c556c81f1226",
   "metadata": {},
   "outputs": [
    {
     "data": {
      "text/plain": [
       "''"
      ]
     },
     "execution_count": 132,
     "metadata": {},
     "output_type": "execute_result"
    }
   ],
   "source": [
    "name[3:9]"
   ]
  },
  {
   "cell_type": "code",
   "execution_count": 134,
   "id": "c34dc1ad-81d1-4c5b-ad8f-7a00546c773b",
   "metadata": {},
   "outputs": [],
   "source": [
    "name1 = 'fine'"
   ]
  },
  {
   "cell_type": "code",
   "execution_count": 136,
   "id": "b7b173db-c5c0-423a-93c9-4641c2384f39",
   "metadata": {},
   "outputs": [
    {
     "data": {
      "text/plain": [
       "'nit'"
      ]
     },
     "execution_count": 136,
     "metadata": {},
     "output_type": "execute_result"
    }
   ],
   "source": [
    "name[:]"
   ]
  },
  {
   "cell_type": "code",
   "execution_count": 138,
   "id": "6cb6c96a-1845-423e-a041-59dcba6e0354",
   "metadata": {},
   "outputs": [],
   "source": [
    "name1 = 'fine'"
   ]
  },
  {
   "cell_type": "code",
   "execution_count": 142,
   "id": "03b53405-2f47-40f4-a690-f6fba6cc9408",
   "metadata": {},
   "outputs": [
    {
     "ename": "TypeError",
     "evalue": "'str' object does not support item assignment",
     "output_type": "error",
     "traceback": [
      "\u001b[1;31m---------------------------------------------------------------------------\u001b[0m",
      "\u001b[1;31mTypeError\u001b[0m                                 Traceback (most recent call last)",
      "Cell \u001b[1;32mIn[142], line 1\u001b[0m\n\u001b[1;32m----> 1\u001b[0m name1[\u001b[38;5;241m0\u001b[39m:\u001b[38;5;241m2\u001b[39m] \u001b[38;5;241m=\u001b[39m \u001b[38;5;124m'\u001b[39m\u001b[38;5;124md\u001b[39m\u001b[38;5;124m'\u001b[39m\n",
      "\u001b[1;31mTypeError\u001b[0m: 'str' object does not support item assignment"
     ]
    }
   ],
   "source": [
    "name1[0:2] = 'd'"
   ]
  },
  {
   "cell_type": "code",
   "execution_count": 144,
   "id": "fd34cbb9-e377-4d95-8a83-0d476edc0534",
   "metadata": {},
   "outputs": [
    {
     "ename": "TypeError",
     "evalue": "'str' object does not support item assignment",
     "output_type": "error",
     "traceback": [
      "\u001b[1;31m---------------------------------------------------------------------------\u001b[0m",
      "\u001b[1;31mTypeError\u001b[0m                                 Traceback (most recent call last)",
      "Cell \u001b[1;32mIn[144], line 1\u001b[0m\n\u001b[1;32m----> 1\u001b[0m name[\u001b[38;5;241m0\u001b[39m] \u001b[38;5;241m=\u001b[39m \u001b[38;5;124m'\u001b[39m\u001b[38;5;124md\u001b[39m\u001b[38;5;124m'\u001b[39m\n",
      "\u001b[1;31mTypeError\u001b[0m: 'str' object does not support item assignment"
     ]
    }
   ],
   "source": [
    "name[0] = 'd'"
   ]
  },
  {
   "cell_type": "code",
   "execution_count": 148,
   "id": "ef7c5bb4-7a3c-435d-aa20-8d8b7d9ad3f0",
   "metadata": {},
   "outputs": [
    {
     "data": {
      "text/plain": [
       "'dine'"
      ]
     },
     "execution_count": 148,
     "metadata": {},
     "output_type": "execute_result"
    }
   ],
   "source": [
    "'d' + name1[1:]"
   ]
  },
  {
   "cell_type": "markdown",
   "id": "fe0a3694-8f19-4d67-b4b4-1597775dffbe",
   "metadata": {},
   "source": [
    "# ID()"
   ]
  },
  {
   "cell_type": "code",
   "execution_count": 153,
   "id": "5d8a32b2-23f1-4418-8b97-5daf69949d86",
   "metadata": {},
   "outputs": [
    {
     "data": {
      "text/plain": [
       "140735271873080"
      ]
     },
     "execution_count": 153,
     "metadata": {},
     "output_type": "execute_result"
    }
   ],
   "source": [
    "num = 5\n",
    "id(num)"
   ]
  },
  {
   "cell_type": "code",
   "execution_count": 155,
   "id": "5fbad4ee-4dda-4c8c-88af-b6d8cd87bc66",
   "metadata": {},
   "outputs": [
    {
     "data": {
      "text/plain": [
       "2628291467024"
      ]
     },
     "execution_count": 155,
     "metadata": {},
     "output_type": "execute_result"
    }
   ],
   "source": [
    "name = 'nit'\n",
    "id(name)"
   ]
  },
  {
   "cell_type": "code",
   "execution_count": 157,
   "id": "39d6e4df-2a65-4148-a372-1eea8a86b505",
   "metadata": {},
   "outputs": [
    {
     "data": {
      "text/plain": [
       "140735271873240"
      ]
     },
     "execution_count": 157,
     "metadata": {},
     "output_type": "execute_result"
    }
   ],
   "source": [
    "a = 10\n",
    "id(a)"
   ]
  },
  {
   "cell_type": "code",
   "execution_count": 159,
   "id": "05294747-0f9f-4b34-bb25-bc790deb48fc",
   "metadata": {},
   "outputs": [],
   "source": [
    "b = a"
   ]
  },
  {
   "cell_type": "code",
   "execution_count": 161,
   "id": "4b563a6e-2d20-4714-b527-afd8df940f6b",
   "metadata": {},
   "outputs": [
    {
     "data": {
      "text/plain": [
       "140735271873240"
      ]
     },
     "execution_count": 161,
     "metadata": {},
     "output_type": "execute_result"
    }
   ],
   "source": [
    "id(b)"
   ]
  },
  {
   "cell_type": "code",
   "execution_count": null,
   "id": "bd52c4ca-f619-4c3a-a569-9d346f2063a3",
   "metadata": {},
   "outputs": [],
   "source": [
    "## operator \n",
    "1- ARITHMETIC OPERATOR ( + , -, *, /, %, %%, **, ^)\n",
    "2- ASSIGNMEN OPERATOR (=, +=,-=, *=,/=,//==)\n",
    "3- RELATIONAL OPERATOR (<| > |  =<|>= | == | !=)\n",
    "4- LOGICAL OPERATOR (AND OR NOT)\n",
    "5- UNARY OPERATOR (-)"
   ]
  },
  {
   "cell_type": "code",
   "execution_count": 165,
   "id": "faeecefc-154f-4710-806f-3277f0351425",
   "metadata": {},
   "outputs": [],
   "source": [
    "x=2"
   ]
  },
  {
   "cell_type": "code",
   "execution_count": 173,
   "id": "89ffee8c-4d59-4ba7-ba70-de4e7b4d0a4f",
   "metadata": {},
   "outputs": [
    {
     "data": {
      "text/plain": [
       "10"
      ]
     },
     "execution_count": 173,
     "metadata": {},
     "output_type": "execute_result"
    }
   ],
   "source": [
    "x=x+2\n",
    "x"
   ]
  },
  {
   "cell_type": "code",
   "execution_count": 171,
   "id": "c8655ead-edeb-4c84-8ad5-3a64c0285d8b",
   "metadata": {},
   "outputs": [
    {
     "data": {
      "text/plain": [
       "8"
      ]
     },
     "execution_count": 171,
     "metadata": {},
     "output_type": "execute_result"
    }
   ],
   "source": [
    "x +=2\n",
    "x"
   ]
  },
  {
   "cell_type": "code",
   "execution_count": 175,
   "id": "09a7ca33-c7f8-4ca1-aa78-bd21ee88d458",
   "metadata": {},
   "outputs": [
    {
     "data": {
      "text/plain": [
       "8"
      ]
     },
     "execution_count": 175,
     "metadata": {},
     "output_type": "execute_result"
    }
   ],
   "source": [
    "x-=2\n",
    "x"
   ]
  },
  {
   "cell_type": "code",
   "execution_count": 179,
   "id": "7136e9dd-c154-494a-8f77-339cc2a5db0c",
   "metadata": {},
   "outputs": [
    {
     "data": {
      "text/plain": [
       "2.0"
      ]
     },
     "execution_count": 179,
     "metadata": {},
     "output_type": "execute_result"
    }
   ],
   "source": [
    "x/=2\n",
    "x"
   ]
  },
  {
   "cell_type": "markdown",
   "id": "de809eae-6903-49d4-acfd-c313753dfd69",
   "metadata": {},
   "source": [
    "# unary operator"
   ]
  },
  {
   "cell_type": "code",
   "execution_count": 183,
   "id": "183c3cff-aa5a-4587-a622-488318131229",
   "metadata": {},
   "outputs": [],
   "source": [
    "n =7"
   ]
  },
  {
   "cell_type": "code",
   "execution_count": 187,
   "id": "52613760-c113-4bb5-93a2-5b79291d45dd",
   "metadata": {},
   "outputs": [
    {
     "data": {
      "text/plain": [
       "-7"
      ]
     },
     "execution_count": 187,
     "metadata": {},
     "output_type": "execute_result"
    }
   ],
   "source": [
    "m = -(n)\n",
    "m"
   ]
  },
  {
   "cell_type": "code",
   "execution_count": 189,
   "id": "5a2eca5a-b8da-4761-af9e-27ee64eb19ea",
   "metadata": {},
   "outputs": [
    {
     "data": {
      "text/plain": [
       "7"
      ]
     },
     "execution_count": 189,
     "metadata": {},
     "output_type": "execute_result"
    }
   ],
   "source": [
    "n"
   ]
  },
  {
   "cell_type": "markdown",
   "id": "815c29bf-b68b-4e63-82fa-c7aef3dd760f",
   "metadata": {},
   "source": [
    "# Relational operator"
   ]
  },
  {
   "cell_type": "code",
   "execution_count": 195,
   "id": "5069f666-ca1c-475d-8213-99d1b1ae119e",
   "metadata": {},
   "outputs": [],
   "source": [
    "a2 = 5\n",
    "b2 = 6"
   ]
  },
  {
   "cell_type": "code",
   "execution_count": 197,
   "id": "c5637a83-f64f-48c6-9e90-2e8fdf1ab97c",
   "metadata": {},
   "outputs": [
    {
     "data": {
      "text/plain": [
       "False"
      ]
     },
     "execution_count": 197,
     "metadata": {},
     "output_type": "execute_result"
    }
   ],
   "source": [
    "a2>b2"
   ]
  },
  {
   "cell_type": "code",
   "execution_count": 199,
   "id": "820de03b-e80b-4dab-9215-5d753d5b2aa2",
   "metadata": {},
   "outputs": [
    {
     "data": {
      "text/plain": [
       "True"
      ]
     },
     "execution_count": 199,
     "metadata": {},
     "output_type": "execute_result"
    }
   ],
   "source": [
    "a2<b2"
   ]
  },
  {
   "cell_type": "code",
   "execution_count": 201,
   "id": "9b5cb34f-8c3f-44b8-a8bd-e56aac2f26b2",
   "metadata": {},
   "outputs": [
    {
     "data": {
      "text/plain": [
       "False"
      ]
     },
     "execution_count": 201,
     "metadata": {},
     "output_type": "execute_result"
    }
   ],
   "source": [
    "a2==b2"
   ]
  },
  {
   "cell_type": "code",
   "execution_count": 203,
   "id": "1ef2b2ff-a71c-48eb-8407-dfae060470ac",
   "metadata": {},
   "outputs": [
    {
     "data": {
      "text/plain": [
       "True"
      ]
     },
     "execution_count": 203,
     "metadata": {},
     "output_type": "execute_result"
    }
   ],
   "source": [
    "a2!=b2"
   ]
  },
  {
   "cell_type": "code",
   "execution_count": 205,
   "id": "45070573-2c4c-4fb5-9e0c-0ca50475d31b",
   "metadata": {},
   "outputs": [
    {
     "data": {
      "text/plain": [
       "True"
      ]
     },
     "execution_count": 205,
     "metadata": {},
     "output_type": "execute_result"
    }
   ],
   "source": [
    "a2<=b2"
   ]
  },
  {
   "cell_type": "code",
   "execution_count": 211,
   "id": "e0eefc30-99fe-4a2b-bf6a-495a3c37f606",
   "metadata": {},
   "outputs": [
    {
     "data": {
      "text/plain": [
       "False"
      ]
     },
     "execution_count": 211,
     "metadata": {},
     "output_type": "execute_result"
    }
   ],
   "source": [
    "a2 >= b2"
   ]
  },
  {
   "cell_type": "markdown",
   "id": "8f01b125-330a-4dea-a257-c4040cbc399d",
   "metadata": {},
   "source": [
    "# Logical operator"
   ]
  },
  {
   "cell_type": "code",
   "execution_count": 216,
   "id": "15c7c15f-091c-4dc1-a367-02aab42f59a6",
   "metadata": {},
   "outputs": [],
   "source": [
    "a = 5\n",
    "b=4"
   ]
  },
  {
   "cell_type": "code",
   "execution_count": 218,
   "id": "bc4be58a-6829-4b0d-bba7-2fa692da117c",
   "metadata": {},
   "outputs": [
    {
     "data": {
      "text/plain": [
       "True"
      ]
     },
     "execution_count": 218,
     "metadata": {},
     "output_type": "execute_result"
    }
   ],
   "source": [
    "a<8 and b<5"
   ]
  },
  {
   "cell_type": "code",
   "execution_count": 220,
   "id": "0b3b0814-0a36-4c61-abf4-5e0768712183",
   "metadata": {},
   "outputs": [
    {
     "data": {
      "text/plain": [
       "False"
      ]
     },
     "execution_count": 220,
     "metadata": {},
     "output_type": "execute_result"
    }
   ],
   "source": [
    "a<8 and b<2"
   ]
  },
  {
   "cell_type": "code",
   "execution_count": 222,
   "id": "2f9c5d18-385d-46fc-8632-915078017fac",
   "metadata": {},
   "outputs": [
    {
     "data": {
      "text/plain": [
       "1"
      ]
     },
     "execution_count": 222,
     "metadata": {},
     "output_type": "execute_result"
    }
   ],
   "source": [
    "int(True)"
   ]
  },
  {
   "cell_type": "code",
   "execution_count": 224,
   "id": "a8894685-fab5-4926-a41f-e03e9c7370ad",
   "metadata": {},
   "outputs": [
    {
     "data": {
      "text/plain": [
       "True"
      ]
     },
     "execution_count": 224,
     "metadata": {},
     "output_type": "execute_result"
    }
   ],
   "source": [
    "a<8 or b<2"
   ]
  },
  {
   "cell_type": "code",
   "execution_count": 226,
   "id": "bd6ab1c7-9016-47b8-9cfa-94c945287040",
   "metadata": {},
   "outputs": [
    {
     "data": {
      "text/plain": [
       "False"
      ]
     },
     "execution_count": 226,
     "metadata": {},
     "output_type": "execute_result"
    }
   ],
   "source": [
    "a>8 or b<2"
   ]
  },
  {
   "cell_type": "code",
   "execution_count": 228,
   "id": "48e09481-e514-4c26-96e1-d5505937df1f",
   "metadata": {},
   "outputs": [
    {
     "data": {
      "text/plain": [
       "False"
      ]
     },
     "execution_count": 228,
     "metadata": {},
     "output_type": "execute_result"
    }
   ],
   "source": [
    "x = False\n",
    "x"
   ]
  },
  {
   "cell_type": "code",
   "execution_count": 230,
   "id": "1534a52c-252e-4111-bc56-4a08810cba8a",
   "metadata": {},
   "outputs": [
    {
     "data": {
      "text/plain": [
       "True"
      ]
     },
     "execution_count": 230,
     "metadata": {},
     "output_type": "execute_result"
    }
   ],
   "source": [
    "not x"
   ]
  },
  {
   "cell_type": "code",
   "execution_count": 236,
   "id": "e958cbe3-ff18-44bc-b511-2547c64c6805",
   "metadata": {},
   "outputs": [
    {
     "data": {
      "text/plain": [
       "True"
      ]
     },
     "execution_count": 236,
     "metadata": {},
     "output_type": "execute_result"
    }
   ],
   "source": [
    "x =not x\n",
    "x"
   ]
  },
  {
   "cell_type": "code",
   "execution_count": 238,
   "id": "a9aac21d-efe7-4de3-a9d6-81be827b1c9a",
   "metadata": {},
   "outputs": [
    {
     "data": {
      "text/plain": [
       "False"
      ]
     },
     "execution_count": 238,
     "metadata": {},
     "output_type": "execute_result"
    }
   ],
   "source": [
    "not x"
   ]
  },
  {
   "cell_type": "code",
   "execution_count": null,
   "id": "4fc95860-7c56-465e-a8c7-6fd30b370132",
   "metadata": {},
   "outputs": [],
   "source": [
    "# swap variable"
   ]
  },
  {
   "cell_type": "code",
   "execution_count": null,
   "id": "65057680-1b0f-44b2-9ca9-43081325c36f",
   "metadata": {},
   "outputs": [],
   "source": [
    "## Number system conversion (bit-binary digit)\n",
    "binary: base (0-1)\n",
    "octal : base(0-7)\n",
    "decimal : base(0-9)\n",
    "hexadecimal : base(0-9 & then a-f)"
   ]
  },
  {
   "cell_type": "code",
   "execution_count": 242,
   "id": "f3a0c318-7555-4998-848d-68dbdfe3acee",
   "metadata": {},
   "outputs": [
    {
     "data": {
      "text/plain": [
       "'0b1111'"
      ]
     },
     "execution_count": 242,
     "metadata": {},
     "output_type": "execute_result"
    }
   ],
   "source": [
    "15\n",
    "bin(15)"
   ]
  },
  {
   "cell_type": "code",
   "execution_count": 246,
   "id": "2b50b719-8749-40b0-a7e4-730315643a4c",
   "metadata": {},
   "outputs": [
    {
     "data": {
      "text/plain": [
       "'0b11001'"
      ]
     },
     "execution_count": 246,
     "metadata": {},
     "output_type": "execute_result"
    }
   ],
   "source": [
    "bin(25)"
   ]
  },
  {
   "cell_type": "code",
   "execution_count": 248,
   "id": "023a129e-b2da-40b6-b805-4c72d5a9233d",
   "metadata": {},
   "outputs": [
    {
     "data": {
      "text/plain": [
       "'0b1010'"
      ]
     },
     "execution_count": 248,
     "metadata": {},
     "output_type": "execute_result"
    }
   ],
   "source": [
    "bin(10)"
   ]
  },
  {
   "cell_type": "code",
   "execution_count": 250,
   "id": "dbe78034-ae26-41da-93b8-817341306a0d",
   "metadata": {},
   "outputs": [
    {
     "data": {
      "text/plain": [
       "10"
      ]
     },
     "execution_count": 250,
     "metadata": {},
     "output_type": "execute_result"
    }
   ],
   "source": [
    "int(0b1010)"
   ]
  },
  {
   "cell_type": "code",
   "execution_count": 252,
   "id": "eca411de-4788-4da7-8dd7-e7584928c5e2",
   "metadata": {},
   "outputs": [
    {
     "data": {
      "text/plain": [
       "'0b11110'"
      ]
     },
     "execution_count": 252,
     "metadata": {},
     "output_type": "execute_result"
    }
   ],
   "source": [
    "bin(30)"
   ]
  },
  {
   "cell_type": "code",
   "execution_count": 254,
   "id": "ce169c55-2764-4217-911f-d2631692659a",
   "metadata": {},
   "outputs": [
    {
     "data": {
      "text/plain": [
       "30"
      ]
     },
     "execution_count": 254,
     "metadata": {},
     "output_type": "execute_result"
    }
   ],
   "source": [
    "int(0b11110)"
   ]
  },
  {
   "cell_type": "code",
   "execution_count": 256,
   "id": "92fa583c-8b95-4518-8ee7-67326117a40b",
   "metadata": {},
   "outputs": [
    {
     "data": {
      "text/plain": [
       "'0o31'"
      ]
     },
     "execution_count": 256,
     "metadata": {},
     "output_type": "execute_result"
    }
   ],
   "source": [
    "oct(25)"
   ]
  },
  {
   "cell_type": "code",
   "execution_count": 258,
   "id": "b3bf67d3-672a-4493-99a3-46e18dd5fbf8",
   "metadata": {},
   "outputs": [
    {
     "data": {
      "text/plain": [
       "25"
      ]
     },
     "execution_count": 258,
     "metadata": {},
     "output_type": "execute_result"
    }
   ],
   "source": [
    "int(0o31)"
   ]
  },
  {
   "cell_type": "code",
   "execution_count": null,
   "id": "ade9e04d-0d2f-4223-9232-f283425ef137",
   "metadata": {},
   "outputs": [],
   "source": []
  }
 ],
 "metadata": {
  "kernelspec": {
   "display_name": "Python [conda env:base] *",
   "language": "python",
   "name": "conda-base-py"
  },
  "language_info": {
   "codemirror_mode": {
    "name": "ipython",
    "version": 3
   },
   "file_extension": ".py",
   "mimetype": "text/x-python",
   "name": "python",
   "nbconvert_exporter": "python",
   "pygments_lexer": "ipython3",
   "version": "3.12.7"
  }
 },
 "nbformat": 4,
 "nbformat_minor": 5
}
