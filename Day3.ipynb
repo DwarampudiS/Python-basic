{
 "cells": [
  {
   "cell_type": "markdown",
   "id": "f25d15cb-1676-462e-a9ef-e646c8a8bf5d",
   "metadata": {},
   "source": [
    "# Python Data Structure"
   ]
  },
  {
   "cell_type": "markdown",
   "id": "17cda092-737d-4d8a-b11a-ee84f5adc318",
   "metadata": {},
   "source": [
    "# List data structure"
   ]
  },
  {
   "cell_type": "code",
   "execution_count": 4,
   "id": "961cc7cb-0bd8-40a3-b1fe-f2f9ff3bae5c",
   "metadata": {},
   "outputs": [
    {
     "data": {
      "text/plain": [
       "[]"
      ]
     },
     "execution_count": 4,
     "metadata": {},
     "output_type": "execute_result"
    }
   ],
   "source": [
    "l = []\n",
    "l"
   ]
  },
  {
   "cell_type": "code",
   "execution_count": 6,
   "id": "f5f428f3-8528-4177-ae0f-e4a68fddc7e4",
   "metadata": {},
   "outputs": [
    {
     "data": {
      "text/plain": [
       "0"
      ]
     },
     "execution_count": 6,
     "metadata": {},
     "output_type": "execute_result"
    }
   ],
   "source": [
    "len(l)"
   ]
  },
  {
   "cell_type": "code",
   "execution_count": 8,
   "id": "d8f28291-95fe-421c-949d-9e781f03f3a0",
   "metadata": {},
   "outputs": [
    {
     "data": {
      "text/plain": [
       "list"
      ]
     },
     "execution_count": 8,
     "metadata": {},
     "output_type": "execute_result"
    }
   ],
   "source": [
    "type(l)"
   ]
  },
  {
   "cell_type": "code",
   "execution_count": 10,
   "id": "e35466e0-854e-46ab-9216-5e85a6d85888",
   "metadata": {},
   "outputs": [],
   "source": [
    "l.append(10)"
   ]
  },
  {
   "cell_type": "code",
   "execution_count": 12,
   "id": "9f8d0a31-f83c-4b1e-a8cb-371025d303e4",
   "metadata": {},
   "outputs": [
    {
     "data": {
      "text/plain": [
       "1"
      ]
     },
     "execution_count": 12,
     "metadata": {},
     "output_type": "execute_result"
    }
   ],
   "source": [
    "len(l)"
   ]
  },
  {
   "cell_type": "code",
   "execution_count": 14,
   "id": "6467974c-48d4-450c-8ea7-fead0cb64c27",
   "metadata": {},
   "outputs": [
    {
     "ename": "TypeError",
     "evalue": "list.append() takes exactly one argument (3 given)",
     "output_type": "error",
     "traceback": [
      "\u001b[1;31m---------------------------------------------------------------------------\u001b[0m",
      "\u001b[1;31mTypeError\u001b[0m                                 Traceback (most recent call last)",
      "Cell \u001b[1;32mIn[14], line 1\u001b[0m\n\u001b[1;32m----> 1\u001b[0m l\u001b[38;5;241m.\u001b[39mappend(\u001b[38;5;241m10\u001b[39m,\u001b[38;5;241m20\u001b[39m,\u001b[38;5;241m30\u001b[39m)\n",
      "\u001b[1;31mTypeError\u001b[0m: list.append() takes exactly one argument (3 given)"
     ]
    }
   ],
   "source": [
    "l.append(10,20,30)"
   ]
  },
  {
   "cell_type": "code",
   "execution_count": 18,
   "id": "ebb7ab2b-1ca9-46f8-88de-d16641d73355",
   "metadata": {},
   "outputs": [
    {
     "data": {
      "text/plain": [
       "[70, 2.3, True, '1+2j', [1, 2, 3]]"
      ]
     },
     "execution_count": 18,
     "metadata": {},
     "output_type": "execute_result"
    }
   ],
   "source": [
    "l1 = []\n",
    "l1.append(70)\n",
    "l1.append(2.3)\n",
    "l1.append(True)\n",
    "l1.append('1+2j')\n",
    "l1.append([1,2,3])\n",
    "l1"
   ]
  },
  {
   "cell_type": "code",
   "execution_count": 20,
   "id": "001d0d37-fade-4447-9fbf-7bd834bc2ddc",
   "metadata": {},
   "outputs": [
    {
     "name": "stdout",
     "output_type": "stream",
     "text": [
      "[10]\n",
      "[70, 2.3, True, '1+2j', [1, 2, 3]]\n",
      "2333212091584\n"
     ]
    }
   ],
   "source": [
    "print(l)\n",
    "print(l1)\n",
    "print(id(l1)) # id is the address of memory locations"
   ]
  },
  {
   "cell_type": "code",
   "execution_count": 24,
   "id": "48c45c52-acbd-4f8e-b456-733bdb32c8de",
   "metadata": {},
   "outputs": [
    {
     "data": {
      "text/plain": [
       "[70, 2.3, True, '1+2j', [1, 2, 3]]"
      ]
     },
     "execution_count": 24,
     "metadata": {},
     "output_type": "execute_result"
    }
   ],
   "source": [
    "l3 = l1.copy()\n",
    "l3"
   ]
  },
  {
   "cell_type": "code",
   "execution_count": 26,
   "id": "9b2ac80c-948a-4408-99e0-44190a01f4fe",
   "metadata": {},
   "outputs": [
    {
     "data": {
      "text/plain": [
       "[10]"
      ]
     },
     "execution_count": 26,
     "metadata": {},
     "output_type": "execute_result"
    }
   ],
   "source": [
    "l3 = l.copy()\n",
    "l3"
   ]
  },
  {
   "cell_type": "code",
   "execution_count": 30,
   "id": "6db0da91-6a4a-4847-9aaa-a07cd668ac90",
   "metadata": {},
   "outputs": [
    {
     "data": {
      "text/plain": [
       "True"
      ]
     },
     "execution_count": 30,
     "metadata": {},
     "output_type": "execute_result"
    }
   ],
   "source": [
    "l3 == l"
   ]
  },
  {
   "cell_type": "code",
   "execution_count": 34,
   "id": "a07ae29e-aff1-4da2-8a00-ac3ffcf2d737",
   "metadata": {},
   "outputs": [],
   "source": [
    "l.remove(10) # shift+ tab for hits on methods"
   ]
  },
  {
   "cell_type": "code",
   "execution_count": 36,
   "id": "c163ca9b-8483-49e7-aaee-f9c70fb980a1",
   "metadata": {},
   "outputs": [
    {
     "data": {
      "text/plain": [
       "[]"
      ]
     },
     "execution_count": 36,
     "metadata": {},
     "output_type": "execute_result"
    }
   ],
   "source": [
    "l"
   ]
  },
  {
   "cell_type": "markdown",
   "id": "66f551ed-a9ce-4ec0-a261-639173294f1b",
   "metadata": {},
   "source": [
    "# String indexing"
   ]
  },
  {
   "cell_type": "code",
   "execution_count": 44,
   "id": "afc654bb-aed4-415a-9d11-764be79e03fc",
   "metadata": {},
   "outputs": [
    {
     "data": {
      "text/plain": [
       "'Saranya'"
      ]
     },
     "execution_count": 44,
     "metadata": {},
     "output_type": "execute_result"
    }
   ],
   "source": [
    "s1 = 'Saranya'\n",
    "s1"
   ]
  },
  {
   "cell_type": "code",
   "execution_count": 48,
   "id": "1393cf49-27b2-4352-8604-645702352ca9",
   "metadata": {},
   "outputs": [
    {
     "data": {
      "text/plain": [
       "'n'"
      ]
     },
     "execution_count": 48,
     "metadata": {},
     "output_type": "execute_result"
    }
   ],
   "source": [
    "s1[-3]"
   ]
  },
  {
   "cell_type": "code",
   "execution_count": 50,
   "id": "623f5b78-4dae-48de-9a68-c83733f93130",
   "metadata": {},
   "outputs": [
    {
     "name": "stdout",
     "output_type": "stream",
     "text": [
      "S\n",
      "a\n",
      "r\n",
      "a\n",
      "n\n",
      "y\n",
      "a\n"
     ]
    }
   ],
   "source": [
    "for i in s1:\n",
    "    print(i)"
   ]
  },
  {
   "cell_type": "markdown",
   "id": "940514b3-e3d6-48cb-92c4-a6f9706be647",
   "metadata": {},
   "source": [
    "# slicing [:]"
   ]
  },
  {
   "cell_type": "code",
   "execution_count": 55,
   "id": "88fab99e-2de5-4a05-acb7-51293a577f67",
   "metadata": {},
   "outputs": [
    {
     "data": {
      "text/plain": [
       "'abcdefjhij'"
      ]
     },
     "execution_count": 55,
     "metadata": {},
     "output_type": "execute_result"
    }
   ],
   "source": [
    "s8  = 'abcdefjhij'\n",
    "s8"
   ]
  },
  {
   "cell_type": "code",
   "execution_count": 57,
   "id": "0e824000-6906-41c6-bf23-2b9da22268af",
   "metadata": {},
   "outputs": [
    {
     "data": {
      "text/plain": [
       "'abcdefjhi'"
      ]
     },
     "execution_count": 57,
     "metadata": {},
     "output_type": "execute_result"
    }
   ],
   "source": [
    "s8[0:9] "
   ]
  },
  {
   "cell_type": "code",
   "execution_count": 59,
   "id": "44018d23-158a-44c2-952d-7e52aec57a90",
   "metadata": {},
   "outputs": [
    {
     "data": {
      "text/plain": [
       "'bcdefjhi'"
      ]
     },
     "execution_count": 59,
     "metadata": {},
     "output_type": "execute_result"
    }
   ],
   "source": [
    "s8[1:9] #(last index is n-1 always)"
   ]
  },
  {
   "cell_type": "code",
   "execution_count": 61,
   "id": "07f1c85b-a3c4-431c-ba6d-5f6737b85a29",
   "metadata": {},
   "outputs": [
    {
     "data": {
      "text/plain": [
       "'bcdefj'"
      ]
     },
     "execution_count": 61,
     "metadata": {},
     "output_type": "execute_result"
    }
   ],
   "source": [
    "s8[1:-3]"
   ]
  },
  {
   "cell_type": "code",
   "execution_count": 63,
   "id": "78309f6c-0f3b-46cf-9ca3-92c7d3e3701a",
   "metadata": {},
   "outputs": [
    {
     "data": {
      "text/plain": [
       "[1, 2, 3, 4, 5, 6, 7, 8, 9, 10]"
      ]
     },
     "execution_count": 63,
     "metadata": {},
     "output_type": "execute_result"
    }
   ],
   "source": [
    "step_indexing = [1,2,3,4,5,6,7,8,9,10]\n",
    "step_indexing"
   ]
  },
  {
   "cell_type": "code",
   "execution_count": 65,
   "id": "6ba7806b-35ca-4464-886d-dbc1ce745ad6",
   "metadata": {},
   "outputs": [
    {
     "data": {
      "text/plain": [
       "[1, 5, 9]"
      ]
     },
     "execution_count": 65,
     "metadata": {},
     "output_type": "execute_result"
    }
   ],
   "source": [
    "step_indexing[0:10:4]  #(last index is n-1 always)"
   ]
  },
  {
   "cell_type": "code",
   "execution_count": 71,
   "id": "8823c1e1-c722-4109-b8f2-2ba5366c523e",
   "metadata": {},
   "outputs": [
    {
     "data": {
      "text/plain": [
       "[1, 2, 3, 4, 5, 6, 7, 8, 9, 10]"
      ]
     },
     "execution_count": 71,
     "metadata": {},
     "output_type": "execute_result"
    }
   ],
   "source": [
    "step_indexing[:] # empty slice means all elements"
   ]
  },
  {
   "cell_type": "code",
   "execution_count": 81,
   "id": "421c150c-8be6-4c2c-94de-19d5e2957101",
   "metadata": {},
   "outputs": [
    {
     "data": {
      "text/plain": [
       "[10, 20, 30, 40, 50, 60]"
      ]
     },
     "execution_count": 81,
     "metadata": {},
     "output_type": "execute_result"
    }
   ],
   "source": [
    "l = [10,20,30,40,50,60]\n",
    "l"
   ]
  },
  {
   "cell_type": "code",
   "execution_count": 113,
   "id": "c7070829-5dcf-44eb-9f8f-22e2394a20fe",
   "metadata": {},
   "outputs": [
    {
     "name": "stdout",
     "output_type": "stream",
     "text": [
      "None\n"
     ]
    }
   ],
   "source": [
    "l5 = l.reverse()\n",
    "print(l5)"
   ]
  },
  {
   "cell_type": "markdown",
   "id": "a380aae8-0095-4a20-bff3-19552affed40",
   "metadata": {},
   "source": [
    "# list indexing and slicing"
   ]
  },
  {
   "cell_type": "code",
   "execution_count": null,
   "id": "1bc36912-7bca-4988-99fd-e2ead8c18c3b",
   "metadata": {},
   "outputs": [],
   "source": []
  },
  {
   "cell_type": "code",
   "execution_count": null,
   "id": "30b22ff5-a147-43a4-8d54-405ad60e5238",
   "metadata": {},
   "outputs": [],
   "source": []
  }
 ],
 "metadata": {
  "kernelspec": {
   "display_name": "Python [conda env:base] *",
   "language": "python",
   "name": "conda-base-py"
  },
  "language_info": {
   "codemirror_mode": {
    "name": "ipython",
    "version": 3
   },
   "file_extension": ".py",
   "mimetype": "text/x-python",
   "name": "python",
   "nbconvert_exporter": "python",
   "pygments_lexer": "ipython3",
   "version": "3.12.7"
  }
 },
 "nbformat": 4,
 "nbformat_minor": 5
}
